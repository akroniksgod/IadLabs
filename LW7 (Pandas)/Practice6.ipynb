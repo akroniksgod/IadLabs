{
 "cells": [
  {
   "cell_type": "markdown",
   "id": "7f43f5cf-955e-4840-b0b4-6817987fccf3",
   "metadata": {},
   "source": [
    "# Упражнения на работу с pandas"
   ]
  },
  {
   "cell_type": "markdown",
   "id": "2149f747-60e2-4135-974e-5ba8c8ed10ca",
   "metadata": {},
   "source": [
    "## Упражнение № 1"
   ]
  },
  {
   "cell_type": "code",
   "execution_count": 1,
   "id": "f78085b9-6e68-41b6-b3ff-8c70370d637e",
   "metadata": {},
   "outputs": [],
   "source": [
    "import numpy as np\n",
    "\n",
    "mylist = list('abcedfghijklmnopqrstuvwxyz')\n",
    "myarr = np.arange(26)\n",
    "mydict = dict(zip(mylist, myarr))"
   ]
  },
  {
   "cell_type": "code",
   "execution_count": 2,
   "id": "af0ce4bc-ecbf-4e8e-a151-d061a32ca54f",
   "metadata": {},
   "outputs": [
    {
     "name": "stdout",
     "output_type": "stream",
     "text": [
      "series1:\n",
      "0     a\n",
      "1     b\n",
      "2     c\n",
      "3     e\n",
      "4     d\n",
      "5     f\n",
      "6     g\n",
      "7     h\n",
      "8     i\n",
      "9     j\n",
      "10    k\n",
      "11    l\n",
      "12    m\n",
      "13    n\n",
      "14    o\n",
      "15    p\n",
      "16    q\n",
      "17    r\n",
      "18    s\n",
      "19    t\n",
      "20    u\n",
      "21    v\n",
      "22    w\n",
      "23    x\n",
      "24    y\n",
      "25    z\n",
      "dtype: object\n",
      "\n",
      "series2:\n",
      "0      0\n",
      "1      1\n",
      "2      2\n",
      "3      3\n",
      "4      4\n",
      "5      5\n",
      "6      6\n",
      "7      7\n",
      "8      8\n",
      "9      9\n",
      "10    10\n",
      "11    11\n",
      "12    12\n",
      "13    13\n",
      "14    14\n",
      "15    15\n",
      "16    16\n",
      "17    17\n",
      "18    18\n",
      "19    19\n",
      "20    20\n",
      "21    21\n",
      "22    22\n",
      "23    23\n",
      "24    24\n",
      "25    25\n",
      "dtype: int32\n",
      "\n",
      "series3:\n",
      "a     0\n",
      "b     1\n",
      "c     2\n",
      "e     3\n",
      "d     4\n",
      "f     5\n",
      "g     6\n",
      "h     7\n",
      "i     8\n",
      "j     9\n",
      "k    10\n",
      "l    11\n",
      "m    12\n",
      "n    13\n",
      "o    14\n",
      "p    15\n",
      "q    16\n",
      "r    17\n",
      "s    18\n",
      "t    19\n",
      "u    20\n",
      "v    21\n",
      "w    22\n",
      "x    23\n",
      "y    24\n",
      "z    25\n",
      "dtype: int32\n",
      "\n"
     ]
    }
   ],
   "source": [
    "import pandas as pd\n",
    "\n",
    "series1 = pd.Series(mylist)\n",
    "series2 = pd.Series(myarr)\n",
    "series3 = pd.Series(mydict)\n",
    "\n",
    "print(f\"series1:\\n{series1}\\n\")\n",
    "print(f\"series2:\\n{series2}\\n\")\n",
    "print(f\"series3:\\n{series3}\\n\")"
   ]
  },
  {
   "cell_type": "markdown",
   "id": "8411cca4-b44d-4be5-9f1b-c7ce8e0393f8",
   "metadata": {},
   "source": [
    "## Упражнение № 2"
   ]
  },
  {
   "cell_type": "code",
   "execution_count": 3,
   "id": "f4bdf792-73a5-43e3-b2ce-c2ec7858075c",
   "metadata": {},
   "outputs": [],
   "source": [
    "import numpy as np\n",
    "\n",
    "mylist = list('abcedfghijklmnopqrstuvwxyz')\n",
    "myarr = np.arange(26)\n",
    "mydict = dict(zip(mylist, myarr))\n",
    "ser = pd.Series(mydict)"
   ]
  },
  {
   "cell_type": "code",
   "execution_count": 4,
   "id": "39c7f1dc-635e-4f4d-ab7f-7f3b9ae4a096",
   "metadata": {},
   "outputs": [
    {
     "name": "stdout",
     "output_type": "stream",
     "text": [
      "Преобразованный ряд в датафрейм с новым столбцом:\n",
      "   index   0\n",
      "0      a   0\n",
      "1      b   1\n",
      "2      c   2\n",
      "3      e   3\n",
      "4      d   4\n",
      "5      f   5\n",
      "6      g   6\n",
      "7      h   7\n",
      "8      i   8\n",
      "9      j   9\n",
      "10     k  10\n",
      "11     l  11\n",
      "12     m  12\n",
      "13     n  13\n",
      "14     o  14\n",
      "15     p  15\n",
      "16     q  16\n",
      "17     r  17\n",
      "18     s  18\n",
      "19     t  19\n",
      "20     u  20\n",
      "21     v  21\n",
      "22     w  22\n",
      "23     x  23\n",
      "24     y  24\n",
      "25     z  25\n"
     ]
    }
   ],
   "source": [
    "df = ser.to_frame().reset_index()\n",
    "print(f\"Преобразованный ряд в датафрейм с новым столбцом:\\n{df}\")"
   ]
  },
  {
   "cell_type": "markdown",
   "id": "d0aa03f1-dd9c-49ca-a095-be00b97d003d",
   "metadata": {},
   "source": [
    "## Упражнение № 3"
   ]
  },
  {
   "cell_type": "code",
   "execution_count": 5,
   "id": "23e57912-05f8-4f9b-bf56-679390596036",
   "metadata": {},
   "outputs": [],
   "source": [
    "import numpy as np\n",
    "\n",
    "mylist = list('abcedfghijklmnopqrstuvwxyz')\n",
    "myarr = np.arange(26)\n",
    "mydict = dict(zip(mylist, myarr))"
   ]
  },
  {
   "cell_type": "code",
   "execution_count": 6,
   "id": "91b17b7e-b4f9-4080-8108-5f07efc5824c",
   "metadata": {},
   "outputs": [
    {
     "name": "stdout",
     "output_type": "stream",
     "text": [
      "Объединённый датафрейм из двух рядов:\n",
      "   ser1  ser2\n",
      "0     a     0\n",
      "1     b     1\n",
      "2     c     2\n",
      "3     e     3\n",
      "4     d     4\n",
      "5     f     5\n",
      "6     g     6\n",
      "7     h     7\n",
      "8     i     8\n",
      "9     j     9\n",
      "10    k    10\n",
      "11    l    11\n",
      "12    m    12\n",
      "13    n    13\n",
      "14    o    14\n",
      "15    p    15\n",
      "16    q    16\n",
      "17    r    17\n",
      "18    s    18\n",
      "19    t    19\n",
      "20    u    20\n",
      "21    v    21\n",
      "22    w    22\n",
      "23    x    23\n",
      "24    y    24\n",
      "25    z    25\n"
     ]
    }
   ],
   "source": [
    "ser1 = pd.Series(mylist)\n",
    "ser2 = pd.Series(myarr)\n",
    "\n",
    "df = pd.concat([ser1, ser2], axis=1)\n",
    "df = pd.DataFrame({ \"ser1\": ser1, \"ser2\": ser2 })\n",
    "print(f\"Объединённый датафрейм из двух рядов:\\n{df}\")"
   ]
  },
  {
   "cell_type": "markdown",
   "id": "98d2d283-361e-436c-9ec8-46e07fef74ec",
   "metadata": {},
   "source": [
    "## Упражнение № 4"
   ]
  },
  {
   "cell_type": "code",
   "execution_count": 7,
   "id": "be61011d-32eb-410e-b527-03234f8d1d75",
   "metadata": {},
   "outputs": [],
   "source": [
    "mylist = list('abcedfghijklmnopqrstuvwxyz')\n",
    "ser = pd.Series(mylist)"
   ]
  },
  {
   "cell_type": "code",
   "execution_count": 8,
   "id": "99453527-29dd-4def-958a-bc3cdd23c76d",
   "metadata": {
    "scrolled": true
   },
   "outputs": [
    {
     "name": "stdout",
     "output_type": "stream",
     "text": [
      "С добавлением названия столбца:\n",
      "0     a\n",
      "1     b\n",
      "2     c\n",
      "3     e\n",
      "4     d\n",
      "5     f\n",
      "6     g\n",
      "7     h\n",
      "8     i\n",
      "9     j\n",
      "10    k\n",
      "11    l\n",
      "12    m\n",
      "13    n\n",
      "14    o\n",
      "15    p\n",
      "16    q\n",
      "17    r\n",
      "18    s\n",
      "19    t\n",
      "20    u\n",
      "21    v\n",
      "22    w\n",
      "23    x\n",
      "24    y\n",
      "25    z\n",
      "Name: latin_letters, dtype: object\n"
     ]
    }
   ],
   "source": [
    "ser.name = \"latin_letters\"\n",
    "print(f\"С добавлением названия столбца:\\n{ser}\")"
   ]
  },
  {
   "cell_type": "markdown",
   "id": "17702f03-e426-4d20-be9b-4bad7d3b4555",
   "metadata": {},
   "source": [
    "## Упражнение № 5"
   ]
  },
  {
   "cell_type": "code",
   "execution_count": 9,
   "id": "9f71cbfd-402c-4a55-8089-dcf3d467a816",
   "metadata": {},
   "outputs": [
    {
     "name": "stdout",
     "output_type": "stream",
     "text": [
      "Очищенный первый ряд от значений второго ряда:\n",
      "0    1\n",
      "1    2\n",
      "2    3\n",
      "dtype: int64\n"
     ]
    }
   ],
   "source": [
    "ser1 = pd.Series([1, 2, 3, 4, 5])\n",
    "ser2 = pd.Series([4, 5, 6, 7, 8])\n",
    "\n",
    "ser1 = ser1[~ser1.isin(ser2)]\n",
    "print(f\"Очищенный первый ряд от значений второго ряда:\\n{ser1}\")"
   ]
  },
  {
   "cell_type": "markdown",
   "id": "d51becc4-39a7-478c-84be-635ed3b61dcc",
   "metadata": {},
   "source": [
    "## Упражнение № 6"
   ]
  },
  {
   "cell_type": "code",
   "execution_count": 10,
   "id": "05ea04e6-fc71-4df7-8728-a2207705ad14",
   "metadata": {},
   "outputs": [],
   "source": [
    "ser1 = pd.Series([1, 2, 3, 4, 5])\n",
    "ser2 = pd.Series([4, 5, 6, 7, 8])"
   ]
  },
  {
   "cell_type": "code",
   "execution_count": 11,
   "id": "8a1cdc3a-5401-495a-bd19-ef841dd928a9",
   "metadata": {
    "scrolled": true
   },
   "outputs": [
    {
     "name": "stdout",
     "output_type": "stream",
     "text": [
      "Не являются общими для двух рядов:\n",
      "0    1\n",
      "1    2\n",
      "2    3\n",
      "5    6\n",
      "6    7\n",
      "7    8\n",
      "dtype: int64\n"
     ]
    }
   ],
   "source": [
    "series_union = pd.Series(np.union1d(ser1, ser2))\n",
    "series_intersection = pd.Series(np.intersect1d(ser1, ser2))\n",
    "\n",
    "ser = series_union[~series_union.isin(series_intersection)]\n",
    "print(f\"Не являются общими для двух рядов:\\n{ser}\")"
   ]
  },
  {
   "cell_type": "markdown",
   "id": "6840a917-5ebf-4aa1-ba7a-6b948a71ce9b",
   "metadata": {},
   "source": [
    "## Упражнение № 7"
   ]
  },
  {
   "cell_type": "code",
   "execution_count": 12,
   "id": "6343536a-bb5d-472d-8255-23cde50a79f8",
   "metadata": {},
   "outputs": [],
   "source": [
    "ser = pd.Series(np.random.normal(10, 5, 25))"
   ]
  },
  {
   "cell_type": "code",
   "execution_count": 13,
   "id": "0c25fbd3-be1f-4651-a151-8c044f41c3f4",
   "metadata": {},
   "outputs": [
    {
     "name": "stdout",
     "output_type": "stream",
     "text": [
      "Исходные данные:\n",
      "0      4.197579\n",
      "1     15.707656\n",
      "2      3.817432\n",
      "3      6.053262\n",
      "4      9.132197\n",
      "5     14.969811\n",
      "6     24.757528\n",
      "7      6.093538\n",
      "8      3.741412\n",
      "9      4.548413\n",
      "10    12.420344\n",
      "11     8.117339\n",
      "12     9.208225\n",
      "13    13.242952\n",
      "14     0.824178\n",
      "15    11.045995\n",
      "16     4.591219\n",
      "17    12.187915\n",
      "18    12.630858\n",
      "19    18.813547\n",
      "20    12.399486\n",
      "21     6.760766\n",
      "22     9.531868\n",
      "23    14.259789\n",
      "24    11.661234\n",
      "dtype: float64\n",
      "\n",
      "[['Минимальное значение' '0.8241778285855705']\n",
      " ['25-й процентиль' '6.053262171186743']\n",
      " ['Медиана' '9.531868002116719']\n",
      " ['75-й процентиль' '12.6308583666459']\n",
      " ['Максимальное значение' '24.75752795638551']]\n"
     ]
    }
   ],
   "source": [
    "print(f\"Исходные данные:\\n{ser}\\n\")\n",
    "names = [\n",
    "    \"Минимальное значение\",\n",
    "    \"25-й процентиль\",\n",
    "    \"Медиана\",\n",
    "    \"75-й процентиль\",\n",
    "    \"Максимальное значение\",\n",
    "]\n",
    "results = np.percentile(ser, q=[0, 25, 50, 75, 100])\n",
    "pretty_results = np.stack((names, results), axis=1)\n",
    "print(pretty_results)"
   ]
  },
  {
   "cell_type": "markdown",
   "id": "c87cf476-c5a4-4fc6-9976-3aa71aaf27ff",
   "metadata": {},
   "source": [
    "## Упражнение № 8"
   ]
  },
  {
   "cell_type": "code",
   "execution_count": 14,
   "id": "8a95e432-969f-4086-9e34-d5e9b044383f",
   "metadata": {},
   "outputs": [],
   "source": [
    "ser = pd.Series(np.take(list('abcdefgh'), np.random.randint(8, size=30)))"
   ]
  },
  {
   "cell_type": "code",
   "execution_count": 15,
   "id": "e5001d43-bde7-4273-a493-ebdbda2365ae",
   "metadata": {},
   "outputs": [
    {
     "name": "stdout",
     "output_type": "stream",
     "text": [
      "Исходные данные:\n",
      "0     g\n",
      "1     g\n",
      "2     e\n",
      "3     a\n",
      "4     g\n",
      "5     c\n",
      "6     g\n",
      "7     b\n",
      "8     h\n",
      "9     a\n",
      "10    g\n",
      "11    e\n",
      "12    c\n",
      "13    a\n",
      "14    a\n",
      "15    c\n",
      "16    c\n",
      "17    f\n",
      "18    f\n",
      "19    c\n",
      "20    f\n",
      "21    b\n",
      "22    g\n",
      "23    c\n",
      "24    b\n",
      "25    e\n",
      "26    d\n",
      "27    c\n",
      "28    f\n",
      "29    d\n",
      "dtype: object\n",
      "\n",
      "Частота встречаемости каждого уникального значения:\n",
      "c    7\n",
      "g    6\n",
      "a    4\n",
      "f    4\n",
      "e    3\n",
      "b    3\n",
      "d    2\n",
      "h    1\n",
      "Name: count, dtype: int64\n",
      "\n"
     ]
    }
   ],
   "source": [
    "print(f\"Исходные данные:\\n{ser}\\n\")\n",
    "uniques = ser.value_counts()\n",
    "print(f\"Частота встречаемости каждого уникального значения:\\n{uniques}\\n\")"
   ]
  },
  {
   "cell_type": "markdown",
   "id": "ee5f5e4e-a824-4f00-99a8-97dad9e3507c",
   "metadata": {},
   "source": [
    "## Упражнение № 9"
   ]
  },
  {
   "cell_type": "code",
   "execution_count": 16,
   "id": "92234d63-3a30-4f11-9bb8-cf635adc36a9",
   "metadata": {},
   "outputs": [],
   "source": [
    "np.random.RandomState(100)\n",
    "ser = pd.Series(np.random.randint(1, 5, [12]))"
   ]
  },
  {
   "cell_type": "code",
   "execution_count": 17,
   "id": "d03a571e-35b4-48b3-9466-6dad8e3b868f",
   "metadata": {},
   "outputs": [
    {
     "name": "stdout",
     "output_type": "stream",
     "text": [
      "Исходные данные:\n",
      "0     4\n",
      "1     4\n",
      "2     4\n",
      "3     4\n",
      "4     1\n",
      "5     4\n",
      "6     1\n",
      "7     4\n",
      "8     3\n",
      "9     4\n",
      "10    4\n",
      "11    2\n",
      "dtype: int32\n",
      "\n",
      "Частота встречаемости каждого уникального значения:\n",
      "4    8\n",
      "1    2\n",
      "3    1\n",
      "2    1\n",
      "Name: count, dtype: int64\n",
      "\n",
      "Топ 2:\n",
      "4    8\n",
      "1    2\n",
      "Name: count, dtype: int64\n",
      "\n",
      "Два наиболее встречающихся оставлены, другие заменены на 'Прочее':\n",
      "0          4\n",
      "1          4\n",
      "2          4\n",
      "3          4\n",
      "4          1\n",
      "5          4\n",
      "6          1\n",
      "7          4\n",
      "8     Прочее\n",
      "9          4\n",
      "10         4\n",
      "11    Прочее\n",
      "dtype: object\n"
     ]
    },
    {
     "name": "stderr",
     "output_type": "stream",
     "text": [
      "C:\\Users\\Alex\\AppData\\Local\\Temp\\ipykernel_17768\\1830326190.py:9: FutureWarning: Setting an item of incompatible dtype is deprecated and will raise in a future error of pandas. Value 'Прочее' has dtype incompatible with int32, please explicitly cast to a compatible dtype first.\n",
      "  ser[~ser.isin(uniques.index[:2])] = 'Прочее'\n"
     ]
    }
   ],
   "source": [
    "print(f\"Исходные данные:\\n{ser}\\n\")\n",
    "uniques = ser.value_counts()\n",
    "print(f\"Частота встречаемости каждого уникального значения:\\n{uniques}\\n\")\n",
    "\n",
    "top_2_uniques = uniques[:2]\n",
    "print(f\"Топ 2:\\n{top_2_uniques}\\n\")\n",
    "\n",
    "\n",
    "ser[~ser.isin(uniques.index[:2])] = 'Прочее'\n",
    "print(f\"Два наиболее встречающихся оставлены, другие заменены на 'Прочее':\\n{ser}\")"
   ]
  },
  {
   "cell_type": "markdown",
   "id": "fdcabf89-168e-43bc-bb8b-205c342b5b0b",
   "metadata": {},
   "source": [
    "## Упражнение № 10"
   ]
  },
  {
   "cell_type": "code",
   "execution_count": 18,
   "id": "880d3978-53d7-459b-b2d9-b6764a7f1e51",
   "metadata": {},
   "outputs": [],
   "source": [
    "ser = pd.Series(np.random.random(20))"
   ]
  },
  {
   "cell_type": "code",
   "execution_count": 19,
   "id": "b7431539-6226-4af1-b0c3-b549dbacba22",
   "metadata": {},
   "outputs": [
    {
     "name": "stdout",
     "output_type": "stream",
     "text": [
      "Исходные данные:\n",
      "0     0.018707\n",
      "1     0.606723\n",
      "2     0.870739\n",
      "3     0.671191\n",
      "4     0.436069\n",
      "5     0.628686\n",
      "6     0.068746\n",
      "7     0.802687\n",
      "8     0.447989\n",
      "9     0.964580\n",
      "10    0.029176\n",
      "11    0.820300\n",
      "12    0.005072\n",
      "13    0.428715\n",
      "14    0.855587\n",
      "15    0.897571\n",
      "16    0.217086\n",
      "17    0.408290\n",
      "18    0.370375\n",
      "19    0.362587\n",
      "dtype: float64\n",
      "\n",
      "Значения заменены на децентили:\n",
      "0      1st\n",
      "1      6th\n",
      "2      9th\n",
      "3      7th\n",
      "4      5th\n",
      "5      7th\n",
      "6      2nd\n",
      "7      8th\n",
      "8      6th\n",
      "9     10th\n",
      "10     2nd\n",
      "11     8th\n",
      "12     1st\n",
      "13     5th\n",
      "14     9th\n",
      "15    10th\n",
      "16     3rd\n",
      "17     4th\n",
      "18     4th\n",
      "19     3rd\n",
      "dtype: category\n",
      "Categories (10, object): ['1st' < '2nd' < '3rd' < '4th' ... '7th' < '8th' < '9th' < '10th']\n",
      "\n"
     ]
    }
   ],
   "source": [
    "print(f\"Исходные данные:\\n{ser}\\n\")\n",
    "\n",
    "cut_ser = pd.qcut(\n",
    "                ser, \n",
    "                q=[0, .1, .2, .3, .4, .5, .6, .7, .8, .9, 1], \n",
    "                labels=['1st', '2nd', '3rd', '4th', '5th', '6th', '7th', '8th', '9th', '10th']\n",
    ")\n",
    "print(f\"Значения заменены на децентили:\\n{cut_ser}\\n\")"
   ]
  },
  {
   "cell_type": "markdown",
   "id": "eda6c558-ff03-4caa-942d-e02a10b4d833",
   "metadata": {},
   "source": [
    "## Упражнение № 11"
   ]
  },
  {
   "cell_type": "code",
   "execution_count": 20,
   "id": "06ec8052-6040-4308-9c6c-81253515b6b7",
   "metadata": {},
   "outputs": [],
   "source": [
    "ser = pd.Series(np.random.randint(1, 10, 35))"
   ]
  },
  {
   "cell_type": "code",
   "execution_count": 21,
   "id": "41bab326-9996-4583-8eb8-5cb8ee7abf73",
   "metadata": {
    "scrolled": true
   },
   "outputs": [
    {
     "name": "stdout",
     "output_type": "stream",
     "text": [
      "Исходные данные:\n",
      "0     8\n",
      "1     4\n",
      "2     1\n",
      "3     7\n",
      "4     6\n",
      "5     3\n",
      "6     5\n",
      "7     2\n",
      "8     9\n",
      "9     5\n",
      "10    9\n",
      "11    6\n",
      "12    6\n",
      "13    4\n",
      "14    2\n",
      "15    8\n",
      "16    7\n",
      "17    5\n",
      "18    1\n",
      "19    6\n",
      "20    8\n",
      "21    4\n",
      "22    1\n",
      "23    8\n",
      "24    8\n",
      "25    2\n",
      "26    1\n",
      "27    2\n",
      "28    6\n",
      "29    9\n",
      "30    6\n",
      "31    4\n",
      "32    5\n",
      "33    8\n",
      "34    6\n",
      "dtype: int32\n",
      "\n",
      "Датафрейм с 7 строками и 5 столбцами:\n",
      "   0  1  2  3  4\n",
      "0  8  4  1  7  6\n",
      "1  3  5  2  9  5\n",
      "2  9  6  6  4  2\n",
      "3  8  7  5  1  6\n",
      "4  8  4  1  8  8\n",
      "5  2  1  2  6  9\n",
      "6  6  4  5  8  6\n",
      "\n"
     ]
    }
   ],
   "source": [
    "print(f\"Исходные данные:\\n{ser}\\n\")\n",
    "\n",
    "df = pd.DataFrame(ser.values.reshape(7, 5))\n",
    "print(f\"Датафрейм с 7 строками и 5 столбцами:\\n{df}\\n\")"
   ]
  },
  {
   "cell_type": "markdown",
   "id": "09c607c5-5d65-4139-9cf0-80b4c6e59841",
   "metadata": {},
   "source": [
    "## Упражнение № 12"
   ]
  },
  {
   "cell_type": "code",
   "execution_count": 22,
   "id": "2062a8fd-5ef0-402b-b4ce-caae70de48ae",
   "metadata": {},
   "outputs": [],
   "source": [
    "ser = pd.Series(np.random.randint(1, 10, 7))"
   ]
  },
  {
   "cell_type": "code",
   "execution_count": 23,
   "id": "5f0230e2-391d-480a-bad9-c9ab92162fd0",
   "metadata": {},
   "outputs": [
    {
     "name": "stdout",
     "output_type": "stream",
     "text": [
      "Исходные данные:\n",
      "0    4\n",
      "1    2\n",
      "2    1\n",
      "3    7\n",
      "4    3\n",
      "5    8\n",
      "6    5\n",
      "dtype: int32\n",
      "\n",
      "Позиции чисел, кратных 3, из исходного ряда:\n",
      "[[4]]\n",
      "\n"
     ]
    }
   ],
   "source": [
    "print(f\"Исходные данные:\\n{ser}\\n\")\n",
    "\n",
    "indexes = np.argwhere(ser % 3 == 0)\n",
    "print(f\"Позиции чисел, кратных 3, из исходного ряда:\\n{indexes}\\n\")"
   ]
  },
  {
   "cell_type": "markdown",
   "id": "68658f28-fba8-4de3-bee8-9733ba3f44b9",
   "metadata": {},
   "source": [
    "## Упражнение № 13"
   ]
  },
  {
   "cell_type": "code",
   "execution_count": 24,
   "id": "cc0f0442-7237-42fe-86ae-388035390428",
   "metadata": {},
   "outputs": [],
   "source": [
    "ser = pd.Series(list('abcdefghijklmnopqrstuvwxyz'))\n",
    "pos = [0, 4, 8, 14, 20]"
   ]
  },
  {
   "cell_type": "code",
   "execution_count": 25,
   "id": "2ca5aa1c-d20c-4c90-aed1-5053b6c33be0",
   "metadata": {},
   "outputs": [
    {
     "name": "stdout",
     "output_type": "stream",
     "text": [
      "Элементы, находящиеся на позициях в списке:\n",
      "0     a\n",
      "4     e\n",
      "8     i\n",
      "14    o\n",
      "20    u\n",
      "dtype: object\n",
      "\n"
     ]
    }
   ],
   "source": [
    "# print(f\"Исходные данные:\\n{ser}\\n\")\n",
    "\n",
    "poses = ser.take(pos)\n",
    "print(f\"Элементы, находящиеся на позициях в списке:\\n{poses}\\n\")"
   ]
  },
  {
   "cell_type": "markdown",
   "id": "5d13ad34-f197-4e49-ad14-dcae2675df1c",
   "metadata": {},
   "source": [
    "## Упражнение № 14"
   ]
  },
  {
   "cell_type": "code",
   "execution_count": 26,
   "id": "c438c79c-3106-431f-89d1-75493c1c44e1",
   "metadata": {},
   "outputs": [],
   "source": [
    "ser1 = pd.Series(range(5))\n",
    "ser2 = pd.Series(list('abcde'))"
   ]
  },
  {
   "cell_type": "code",
   "execution_count": 27,
   "id": "f5103fa8-9ca2-4e2b-96c5-414d4c91e02f",
   "metadata": {},
   "outputs": [
    {
     "name": "stdout",
     "output_type": "stream",
     "text": [
      "Объедининённые по вертикали и горизонтали ряды:\n",
      "   0  1\n",
      "0  0  a\n",
      "1  1  b\n",
      "2  2  c\n",
      "3  3  d\n",
      "4  4  e\n"
     ]
    }
   ],
   "source": [
    "df = pd.concat([ser1, ser2], axis=1)\n",
    "print(f\"Объедининённые по вертикали и горизонтали ряды:\\n{df}\")"
   ]
  },
  {
   "cell_type": "markdown",
   "id": "f6956657-56e7-48d5-b526-524f6f9baa43",
   "metadata": {},
   "source": [
    "## Упражнение № 15"
   ]
  },
  {
   "cell_type": "code",
   "execution_count": 28,
   "id": "90873216-838b-4b26-96f6-15449062e63b",
   "metadata": {},
   "outputs": [],
   "source": [
    "ser1 = pd.Series([10, 9, 6, 5, 3, 1, 12, 8, 13])\n",
    "ser2 = pd.Series([1, 3, 10, 13])"
   ]
  },
  {
   "cell_type": "code",
   "execution_count": 29,
   "id": "fa8cdb42-cd40-41bd-8d40-bec5d686857f",
   "metadata": {},
   "outputs": [
    {
     "name": "stdout",
     "output_type": "stream",
     "text": [
      "Позиции элементов `ser2` в `ser1` в виде списка\n"
     ]
    },
    {
     "data": {
      "text/plain": [
       "[5, 4, 0, 8]"
      ]
     },
     "execution_count": 29,
     "metadata": {},
     "output_type": "execute_result"
    }
   ],
   "source": [
    "print(\"Позиции элементов `ser2` в `ser1` в виде списка\")\n",
    "[pd.Index(ser1).get_loc(i) for i in ser2]"
   ]
  },
  {
   "cell_type": "markdown",
   "id": "d86bde68-0759-4b57-a7a3-028d6704b56a",
   "metadata": {},
   "source": [
    "## Упражнение № 16"
   ]
  },
  {
   "cell_type": "code",
   "execution_count": 36,
   "id": "2faef52d-753a-4819-8343-d5b2e7ec056a",
   "metadata": {},
   "outputs": [],
   "source": [
    "truth = pd.Series(range(10))\n",
    "pred = pd.Series(range(10)) + np.random.random(10)"
   ]
  },
  {
   "cell_type": "code",
   "execution_count": 37,
   "id": "1f2a915e-a530-4e78-ac6e-c4499245db5f",
   "metadata": {},
   "outputs": [
    {
     "name": "stdout",
     "output_type": "stream",
     "text": [
      "0    0\n",
      "1    1\n",
      "2    2\n",
      "3    3\n",
      "4    4\n",
      "5    5\n",
      "6    6\n",
      "7    7\n",
      "8    8\n",
      "9    9\n",
      "dtype: int64\n",
      "0    0.609790\n",
      "1    1.843479\n",
      "2    2.970565\n",
      "3    3.274465\n",
      "4    4.368388\n",
      "5    5.596394\n",
      "6    6.376154\n",
      "7    7.389816\n",
      "8    8.857178\n",
      "9    9.392072\n",
      "dtype: float64\n"
     ]
    }
   ],
   "source": [
    "print(truth)\n",
    "print(pred)"
   ]
  },
  {
   "cell_type": "code",
   "execution_count": 39,
   "id": "49e7eff2-0a4c-4a85-a718-d3ed38fb0aa7",
   "metadata": {},
   "outputs": [
    {
     "name": "stdout",
     "output_type": "stream",
     "text": [
      "Среднеквадратическая ошибка рядов:\n",
      "0.3773946048851097\n"
     ]
    }
   ],
   "source": [
    "print(f\"Среднеквадратическая ошибка рядов:\\n{np.mean((truth - pred) ** 2)}\")"
   ]
  },
  {
   "cell_type": "markdown",
   "id": "5d257f2e-552c-470b-a230-de3eea9a0ce6",
   "metadata": {},
   "source": [
    "## Упражнение № 17"
   ]
  },
  {
   "cell_type": "code",
   "execution_count": 46,
   "id": "9f7c1297-8d96-4740-a57b-8c5f2f7e8f79",
   "metadata": {},
   "outputs": [],
   "source": [
    "ser = pd.Series(['how', 'to', 'kick', 'ass?'])"
   ]
  },
  {
   "cell_type": "code",
   "execution_count": 47,
   "id": "300114d2-c58b-490f-a7ba-ec6f44997a16",
   "metadata": {},
   "outputs": [
    {
     "name": "stdout",
     "output_type": "stream",
     "text": [
      "Каждое слово с заглавной буквы:\n",
      "0     How\n",
      "1      To\n",
      "2    Kick\n",
      "3    Ass?\n",
      "dtype: object\n"
     ]
    }
   ],
   "source": [
    "print(f\"Каждое слово с заглавной буквы:\\n{ser.map(lambda word: word.capitalize())}\")"
   ]
  },
  {
   "cell_type": "markdown",
   "id": "656a0d66-c725-4324-9b03-06409979147d",
   "metadata": {},
   "source": [
    "## Упражнение № 18"
   ]
  },
  {
   "cell_type": "code",
   "execution_count": null,
   "id": "3c86ffbb-51de-4c77-aadd-92928845a897",
   "metadata": {},
   "outputs": [],
   "source": [
    "ser = pd.Series(['how', 'to', 'kick', 'ass?'])"
   ]
  },
  {
   "cell_type": "code",
   "execution_count": 48,
   "id": "9230c4be-1cd8-4eee-b4c5-1d49109dbfde",
   "metadata": {},
   "outputs": [
    {
     "name": "stdout",
     "output_type": "stream",
     "text": [
      "Каждое слово с заглавной буквы:\n",
      "0    3\n",
      "1    2\n",
      "2    4\n",
      "3    4\n",
      "dtype: int64\n"
     ]
    }
   ],
   "source": [
    "print(f\"Число символов в кажом слове:\\n{ser.map(lambda word: len(word))}\")"
   ]
  },
  {
   "cell_type": "markdown",
   "id": "442a9f64-e977-442d-a69c-c901430992fb",
   "metadata": {},
   "source": [
    "## Упражнение № 19"
   ]
  },
  {
   "cell_type": "code",
   "execution_count": 58,
   "id": "3d53ed17-f3c7-4027-b191-cf2c3b71c9f3",
   "metadata": {},
   "outputs": [],
   "source": [
    "ser = pd.Series([1, 3, 6, 10, 15, 21, 27, 35])"
   ]
  },
  {
   "cell_type": "code",
   "execution_count": 60,
   "id": "8b3e4d9d-0484-419d-a5c3-a9520b5de2ed",
   "metadata": {},
   "outputs": [
    {
     "name": "stdout",
     "output_type": "stream",
     "text": [
      "Разность между последовательно идущими числами:\n",
      "[nan, 2.0, 3.0, 4.0, 5.0, 6.0, 6.0, 8.0]\n",
      "\n",
      "Разность разностей между последовательно идущими числами:\n",
      "[nan, nan, 1.0, 1.0, 1.0, 1.0, 0.0, 2.0]\n"
     ]
    }
   ],
   "source": [
    "print(f\"Разность между последовательно идущими числами:\\n{ser.diff().tolist()}\\n\")\n",
    "print(f\"Разность разностей между последовательно идущими числами:\\n{ser.diff().diff().tolist()}\")"
   ]
  },
  {
   "cell_type": "markdown",
   "id": "8ef76804-6323-4e1f-a645-0313f61d099f",
   "metadata": {},
   "source": [
    "## Упражнение № 20"
   ]
  },
  {
   "cell_type": "code",
   "execution_count": 63,
   "id": "541a2d8f-6a9b-4656-940d-b3662ba65cb5",
   "metadata": {},
   "outputs": [],
   "source": [
    "ser = pd.Series(['01 Jan 2010', '02-02-2011', '20120303', '2013/04/04', '2014-05-05', '2015-06-06T12:20'])"
   ]
  },
  {
   "cell_type": "code",
   "execution_count": 66,
   "id": "08ac2ce7-e5f5-41c8-8c7c-19fcb6f8bed7",
   "metadata": {},
   "outputs": [
    {
     "data": {
      "text/plain": [
       "0   2010-01-01 00:00:00\n",
       "1   2011-02-02 00:00:00\n",
       "2   2012-03-03 00:00:00\n",
       "3   2013-04-04 00:00:00\n",
       "4   2014-05-05 00:00:00\n",
       "5   2015-06-06 12:20:00\n",
       "dtype: datetime64[ns]"
      ]
     },
     "execution_count": 66,
     "metadata": {},
     "output_type": "execute_result"
    }
   ],
   "source": [
    "ser.map(lambda date: pd.to_datetime(date))"
   ]
  },
  {
   "cell_type": "markdown",
   "id": "eb00e8ce-a5cd-4353-ae1e-61a3603e56cd",
   "metadata": {},
   "source": [
    "## Упражнение № 21"
   ]
  },
  {
   "cell_type": "code",
   "execution_count": 69,
   "id": "ef802a0f-1397-4d36-b2c5-c42839cf80a5",
   "metadata": {},
   "outputs": [],
   "source": [
    "ser = pd.Series(['01 Jan 2010', '02-02-2011', '20120303', '2013/04/04', '2014-05-05', '2015-06-06T12:20'])"
   ]
  },
  {
   "cell_type": "code",
   "execution_count": 85,
   "id": "83397f8d-ebec-422b-8361-de52be1fd38c",
   "metadata": {},
   "outputs": [
    {
     "name": "stdout",
     "output_type": "stream",
     "text": [
      "Date:\t\t\t [1, 1, 1]\n",
      "Week number:\t\t [53, 5, 9]\n",
      "Day number of year:\t [1, 32, 61]\n",
      "Day of week:\t\t ['Friday', 'Tuesday', 'Thursday']\n"
     ]
    }
   ],
   "source": [
    "dates = ser.map(lambda date: pd.to_datetime(date))\n",
    "\n",
    "print(\"Date:\\t\\t\\t\", dates.dt.day.tolist())\n",
    "print(\"Week number:\\t\\t\", dates.dt.isocalendar().week.tolist())\n",
    "print(\"Day number of year:\\t\", dates.dt.dayofyear.tolist())\n",
    "print(\"Day of week:\\t\\t\", dates.dt.day_name().tolist())"
   ]
  },
  {
   "cell_type": "markdown",
   "id": "afedf77d-3d5f-4d06-bb83-3824f2968372",
   "metadata": {},
   "source": [
    "## Упражнение № 22"
   ]
  },
  {
   "cell_type": "code",
   "execution_count": 94,
   "id": "14cd3662-0dda-47d9-b51e-2c6e0199227e",
   "metadata": {},
   "outputs": [],
   "source": [
    "ser = pd.Series(['Jan 2010', 'Feb 2011', 'Mar 2012'])"
   ]
  },
  {
   "cell_type": "code",
   "execution_count": 95,
   "id": "9dd5e814-505c-4584-9fb8-c23046b65e1f",
   "metadata": {},
   "outputs": [
    {
     "name": "stdout",
     "output_type": "stream",
     "text": [
      "Замена на даты, начинающиеся с 4-го числа соответствующего месяца:\n",
      "0   2010-01-04\n",
      "1   2011-02-04\n",
      "2   2012-03-04\n",
      "dtype: datetime64[ns]\n"
     ]
    }
   ],
   "source": [
    "dates = ser.map(lambda date: pd.to_datetime(date).replace(day = 4))\n",
    "print(f\"Замена на даты, начинающиеся с 4-го числа соответствующего месяца:\\n{dates}\")"
   ]
  },
  {
   "cell_type": "markdown",
   "id": "8a1cb174-26a7-4c07-8728-edc3476e0e02",
   "metadata": {},
   "source": [
    "## Упражнение № 23"
   ]
  },
  {
   "cell_type": "code",
   "execution_count": 103,
   "id": "47c97db7-c422-4539-bb73-9782f0b7cc73",
   "metadata": {},
   "outputs": [],
   "source": [
    "ser = pd.Series(['Apple', 'Orange', 'Plan', 'Python', 'Money'])"
   ]
  },
  {
   "cell_type": "code",
   "execution_count": 104,
   "id": "6fa71a7f-0f03-46c5-81dc-b5318736fb30",
   "metadata": {},
   "outputs": [
    {
     "name": "stdout",
     "output_type": "stream",
     "text": [
      "Слова, содержащие не менее 2 гласных букв:\n",
      "0     Apple\n",
      "1    Orange\n",
      "3    Python\n",
      "4     Money\n",
      "dtype: object\n"
     ]
    }
   ],
   "source": [
    "from collections import Counter\n",
    "\n",
    "vowels = \"eyuioa\"\n",
    "vowels_count = 2\n",
    "\n",
    "word_checks = ser.map(lambda x: sum([Counter(x.lower()).get(i, 0) for i in list(vowels)]) >= vowels_count)\n",
    "\n",
    "print(f\"Слова, содержащие не менее 2 гласных букв:\\n{ser[word_checks]}\")"
   ]
  },
  {
   "cell_type": "markdown",
   "id": "4e8d7f6a-6c2a-429c-90a5-cef71f0e0feb",
   "metadata": {},
   "source": [
    "## Упражнение № 24"
   ]
  },
  {
   "cell_type": "code",
   "execution_count": 105,
   "id": "e79a6fbc-3455-4ea6-a58b-7509249e7163",
   "metadata": {},
   "outputs": [],
   "source": [
    "emails = pd.Series(['buying books at amazom.com', 'rameses@egypt.com', 'matt@t.co', 'narendra@modi.com'])\n",
    "pattern ='[A-Za-z0-9._%+-]+@[A-Za-z0-9.-]+\\\\.[A-Za-z]{2,4}'"
   ]
  },
  {
   "cell_type": "code",
   "execution_count": 106,
   "id": "105a1cdb-08cd-4853-a6de-e0e503c663dc",
   "metadata": {},
   "outputs": [
    {
     "name": "stdout",
     "output_type": "stream",
     "text": [
      "Корректные адреса электронной почты из ряда:\n",
      "1    rameses@egypt.com\n",
      "2            matt@t.co\n",
      "3    narendra@modi.com\n",
      "dtype: object\n"
     ]
    }
   ],
   "source": [
    "import re\n",
    "\n",
    "email_checks = emails.map(lambda email: bool(re.match(pattern, email)))\n",
    "correct_emails = emails[email_checks]\n",
    "print(f\"Корректные адреса электронной почты из ряда:\\n{correct_emails}\")"
   ]
  },
  {
   "cell_type": "markdown",
   "id": "266ff71e-b50f-4729-9bc2-c0b410a2e614",
   "metadata": {},
   "source": [
    "## Упражнение № 25"
   ]
  },
  {
   "cell_type": "code",
   "execution_count": 108,
   "id": "281d5122-7be1-416d-bd68-fc740673ee8e",
   "metadata": {
    "scrolled": true
   },
   "outputs": [
    {
     "name": "stdout",
     "output_type": "stream",
     "text": [
      "[1.0, 2.0, 3.0, 4.0, 5.0, 6.0, 7.0, 8.0, 9.0, 10.0]\n",
      "['apple', 'banana', 'carrot', 'banana', 'banana', 'apple', 'banana', 'apple', 'apple', 'banana']\n"
     ]
    }
   ],
   "source": [
    "fruit = pd.Series(np.random.choice(['apple', 'banana', 'carrot'], 10))\n",
    "weights = pd.Series(np.linspace(1, 10, 10))\n",
    "print(weights.tolist())\n",
    "print(fruit.tolist())"
   ]
  },
  {
   "cell_type": "code",
   "execution_count": 111,
   "id": "4694542d-4222-4816-a20c-b2fc0d919912",
   "metadata": {},
   "outputs": [
    {
     "name": "stdout",
     "output_type": "stream",
     "text": [
      "Корректные адреса электронной почты из ряда:\n",
      "apple     6.0\n",
      "banana    5.6\n",
      "carrot    3.0\n",
      "dtype: float64\n"
     ]
    }
   ],
   "source": [
    "mean_weights = weights.groupby(fruit).mean()\n",
    "print(f\"Корректные адреса электронной почты из ряда:\\n{mean_weights}\")"
   ]
  },
  {
   "cell_type": "markdown",
   "id": "d2bd38d0-be34-4421-9983-da97203f3244",
   "metadata": {},
   "source": [
    "## Упражнение № 26"
   ]
  },
  {
   "cell_type": "code",
   "execution_count": 118,
   "id": "a9d007f0-ab64-4809-80a8-03d3c6d010a9",
   "metadata": {},
   "outputs": [],
   "source": [
    "p = pd.Series([1, 2, 3, 4, 5, 6, 7, 8, 9, 10])\n",
    "q = pd.Series([10, 9, 8, 7, 6, 5, 4, 3, 2, 1])"
   ]
  },
  {
   "cell_type": "code",
   "execution_count": 120,
   "id": "10ad17de-1afd-4961-804d-ce9c1d5d66e9",
   "metadata": {},
   "outputs": [
    {
     "name": "stdout",
     "output_type": "stream",
     "text": [
      "Евклидово расстояние:\n",
      "18.16590212458495\n"
     ]
    }
   ],
   "source": [
    "dist = np.linalg.norm(p - q)\n",
    "print(f\"Евклидово расстояние:\\n{dist}\")"
   ]
  },
  {
   "cell_type": "markdown",
   "id": "a554dc72-3781-4e5a-99d5-68649c7cbb61",
   "metadata": {},
   "source": [
    "## Упражнение № 27"
   ]
  },
  {
   "cell_type": "code",
   "execution_count": 124,
   "id": "eabb5711-3308-489b-a880-f40c7d15b9a4",
   "metadata": {},
   "outputs": [],
   "source": [
    "ser = pd.Series([2, 10, 3, 4, 9, 10, 2, 7, 3])"
   ]
  },
  {
   "cell_type": "code",
   "execution_count": 126,
   "id": "0406bb91-667a-4c06-a5bf-b05b94786f96",
   "metadata": {},
   "outputs": [
    {
     "name": "stdout",
     "output_type": "stream",
     "text": [
      "[1 5 7]\n"
     ]
    }
   ],
   "source": [
    "from scipy.signal import find_peaks\n",
    "\n",
    "peak_idx, _ = find_peaks(ser)\n",
    "print(peak_idx)"
   ]
  },
  {
   "cell_type": "markdown",
   "id": "eb5fb1e7-a9c7-4380-a81e-13e3ea95dfc7",
   "metadata": {},
   "source": [
    "## Упражнение № 28"
   ]
  },
  {
   "cell_type": "code",
   "execution_count": 127,
   "id": "b1bfa03a-aaf0-4fd9-8906-0e1b23d2eb0e",
   "metadata": {},
   "outputs": [],
   "source": [
    "my_str = 'dbc deb abed gade'"
   ]
  },
  {
   "cell_type": "code",
   "execution_count": 131,
   "id": "263da6c6-1722-41c7-b515-c18aa858c9dc",
   "metadata": {},
   "outputs": [
    {
     "name": "stdout",
     "output_type": "stream",
     "text": [
      "Строка с заменой пробелов на d:\n",
      "dbcddebdabeddgade\n"
     ]
    }
   ],
   "source": [
    "from collections import Counter\n",
    "\n",
    "symbol_to_replace = ' '\n",
    "most_frequent_symbol = Counter(my_str).most_common(1)[0][0]\n",
    "\n",
    "updated_str = my_str.replace(symbol_to_replace, most_frequent)\n",
    "print(f\"Строка с заменой пробелов на {most_frequent_symbol}:\\n{updated_str}\")"
   ]
  },
  {
   "cell_type": "markdown",
   "id": "aae908b6-d39f-4019-a136-850bc84e93a2",
   "metadata": {},
   "source": [
    "## Упражнение № 29"
   ]
  },
  {
   "cell_type": "code",
   "execution_count": 133,
   "id": "ae644477-72e0-4e07-ba71-f6dcf579b519",
   "metadata": {},
   "outputs": [
    {
     "name": "stdout",
     "output_type": "stream",
     "text": [
      "Временной ряд, начинающийся с `2000-01-01`, содержащий 10 субботних дней после этого и имеющий в качестве значений случайные числа:\n",
      "2000-01-01    4\n",
      "2000-01-08    5\n",
      "2000-01-15    6\n",
      "2000-01-22    1\n",
      "2000-01-29    3\n",
      "2000-02-05    6\n",
      "2000-02-12    3\n",
      "2000-02-19    9\n",
      "2000-02-26    8\n",
      "2000-03-04    8\n",
      "Freq: W-SAT, dtype: int32\n"
     ]
    }
   ],
   "source": [
    "begin_date = '2000-01-01'\n",
    "ser = pd.Series(np.random.randint(1,10,10), pd.date_range(begin_date, periods=10, freq='W-SAT'))\n",
    "print(f\"Временной ряд, начинающийся с `2000-01-01`, содержащий 10 субботних дней после этого и имеющий в качестве значений случайные числа:\\n{ser}\")"
   ]
  },
  {
   "cell_type": "markdown",
   "id": "1bb55858-fbf3-4c75-a155-aea45e35912e",
   "metadata": {},
   "source": [
    "## Упражнение № 30"
   ]
  },
  {
   "cell_type": "code",
   "execution_count": 134,
   "id": "04638104-8ba2-4773-8a73-9ef9359b5ceb",
   "metadata": {},
   "outputs": [
    {
     "name": "stdout",
     "output_type": "stream",
     "text": [
      "2000-01-01     1.0\n",
      "2000-01-03    10.0\n",
      "2000-01-06     3.0\n",
      "2000-01-08     NaN\n",
      "dtype: float64\n"
     ]
    }
   ],
   "source": [
    "ser = pd.Series([1,10,3,np.nan], index=pd.to_datetime(['2000-01-01', '2000-01-03', '2000-01-06', '2000-01-08']))\n",
    "print(ser)"
   ]
  },
  {
   "cell_type": "code",
   "execution_count": 136,
   "id": "de035d9a-2d3c-4356-aa2a-c1ad8d882e5a",
   "metadata": {},
   "outputs": [
    {
     "name": "stdout",
     "output_type": "stream",
     "text": [
      "Ряд с пропущенными датами:\n",
      "2000-01-01     1.0\n",
      "2000-01-02     1.0\n",
      "2000-01-03    10.0\n",
      "2000-01-04    10.0\n",
      "2000-01-05    10.0\n",
      "2000-01-06     3.0\n",
      "2000-01-07     3.0\n",
      "2000-01-08     NaN\n",
      "Freq: D, dtype: float64\n"
     ]
    }
   ],
   "source": [
    "all_dates = ser.resample('D').ffill()\n",
    "print(f\"Ряд с пропущенными датами:\\n{all_dates}\")"
   ]
  },
  {
   "cell_type": "markdown",
   "id": "ba9b926d-510b-4cd0-801b-f543960875fb",
   "metadata": {},
   "source": [
    "## Упражнение № 31"
   ]
  },
  {
   "cell_type": "code",
   "execution_count": 147,
   "id": "71644528-62c1-4fe6-b8d6-fe2d55765572",
   "metadata": {},
   "outputs": [],
   "source": [
    "ser = pd.Series(np.arange(20) + np.random.normal(1, 10, 20))"
   ]
  },
  {
   "cell_type": "code",
   "execution_count": 148,
   "id": "c67e0d1c-67e5-420d-a4ee-c9ce99adbc7d",
   "metadata": {},
   "outputs": [
    {
     "name": "stdout",
     "output_type": "stream",
     "text": [
      "Исходные данные:\n",
      "0    -17.542381\n",
      "1     -2.793127\n",
      "2     -0.041703\n",
      "3      3.304575\n",
      "4     12.073692\n",
      "5     20.026790\n",
      "6      1.160905\n",
      "7     16.445516\n",
      "8     -4.442881\n",
      "9     26.156146\n",
      "10     5.423640\n",
      "11    22.066235\n",
      "12    19.234405\n",
      "13    23.415021\n",
      "14    21.100594\n",
      "15    19.236528\n",
      "16    22.349302\n",
      "17     6.094828\n",
      "18    10.940223\n",
      "19    30.809192\n",
      "dtype: float64\n",
      "\n",
      "Автокорелляции для 10 лагов:\n",
      "[0.20807315515271158, 0.5338370077584998, 0.12451757245325482, 0.2672476380286292, 0.07561164066433658, 0.333001099523642, 0.2885955706437611, 0.3743066087733319, -0.013779537438404136, 0.4813581341470749]\n",
      "Наибольшая корреляция: 1\n"
     ]
    }
   ],
   "source": [
    "print(f\"Исходные данные:\\n{ser}\\n\")\n",
    "\n",
    "autocorrelations = [ser.autocorr(i) for i in range(1, 11)]\n",
    "print(f\"Автокорелляции для 10 лагов:\\n{autocorrelations}\")\n",
    "print(f'Наибольшая корреляция: {np.argmax(np.abs(autocorrelations))}')"
   ]
  },
  {
   "cell_type": "markdown",
   "id": "d9cdfa12-0125-43b5-b52b-cf4e7dea22e0",
   "metadata": {},
   "source": [
    "## Упражнение № 32"
   ]
  },
  {
   "cell_type": "code",
   "execution_count": 165,
   "id": "951d3e93-5032-490b-9e1d-7eb5ee32d79e",
   "metadata": {},
   "outputs": [
    {
     "name": "stdout",
     "output_type": "stream",
     "text": [
      "Каждая 50-я строка набора данных:\n",
      "         crim    zn  indus  chas    nox     rm    age     dis  rad  tax  \\\n",
      "0     0.00632  18.0   2.31     0  0.538  6.575   65.2  4.0900    1  296   \n",
      "50    0.08873  21.0   5.64     0  0.439  5.963   45.7  6.8147    4  243   \n",
      "100   0.14866   0.0   8.56     0  0.520  6.727   79.9  2.7778    5  384   \n",
      "150   1.65660   0.0  19.58     0  0.871  6.122   97.3  1.6180    5  403   \n",
      "200   0.01778  95.0   1.47     0  0.403  7.135   13.9  7.6534    3  402   \n",
      "250   0.14030  22.0   5.86     0  0.431  6.487   13.0  7.3967    7  330   \n",
      "300   0.04417  70.0   2.24     0  0.400  6.871   47.4  7.8278    5  358   \n",
      "350   0.06211  40.0   1.25     0  0.429  6.490   44.4  8.7921    1  335   \n",
      "400  25.04610   0.0  18.10     0  0.693  5.987  100.0  1.5888   24  666   \n",
      "450   6.71772   0.0  18.10     0  0.713  6.749   92.6  2.3236   24  666   \n",
      "500   0.22438   0.0   9.69     0  0.585  6.027   79.7  2.4982    6  391   \n",
      "\n",
      "     ptratio       b  lstat  medv  \n",
      "0       15.3  396.90   4.98  24.0  \n",
      "50      16.8  395.56  13.45  19.7  \n",
      "100     20.9  394.76   9.42  27.5  \n",
      "150     14.7  372.80  14.10  21.5  \n",
      "200     17.0  384.30   4.45  32.9  \n",
      "250     19.1  396.28   5.90  24.4  \n",
      "300     14.8  390.86   6.07  24.8  \n",
      "350     19.7  396.90   5.98  22.9  \n",
      "400     20.2  396.90  26.77   5.6  \n",
      "450     20.2    0.32  17.44  13.4  \n",
      "500     19.2  396.90  14.33  16.8  \n"
     ]
    }
   ],
   "source": [
    "url = 'https://raw.githubusercontent.com/selva86/datasets/master/BostonHousing.csv'\n",
    "df = pd.read_csv(url)\n",
    "\n",
    "chunk_index = 50\n",
    "chunks = df.loc[df.index % chunk_index == 0]\n",
    "print(f\"Каждая 50-я строка набора данных:\\n{chunks}\")"
   ]
  },
  {
   "cell_type": "markdown",
   "id": "4ac454c2-d257-402a-bb83-b7f642753472",
   "metadata": {},
   "source": [
    "## Упражнение № 33"
   ]
  },
  {
   "cell_type": "code",
   "execution_count": 173,
   "id": "8aa36c38-e26e-4b77-a612-006c122fb471",
   "metadata": {},
   "outputs": [
    {
     "name": "stdout",
     "output_type": "stream",
     "text": [
      "Столбец 'medv' изменён на `Low` и `High`:\n",
      "        crim    zn  indus  chas    nox     rm   age     dis  rad  tax  \\\n",
      "0    0.00632  18.0   2.31     0  0.538  6.575  65.2  4.0900    1  296   \n",
      "1    0.02731   0.0   7.07     0  0.469  6.421  78.9  4.9671    2  242   \n",
      "2    0.02729   0.0   7.07     0  0.469  7.185  61.1  4.9671    2  242   \n",
      "3    0.03237   0.0   2.18     0  0.458  6.998  45.8  6.0622    3  222   \n",
      "4    0.06905   0.0   2.18     0  0.458  7.147  54.2  6.0622    3  222   \n",
      "..       ...   ...    ...   ...    ...    ...   ...     ...  ...  ...   \n",
      "501  0.06263   0.0  11.93     0  0.573  6.593  69.1  2.4786    1  273   \n",
      "502  0.04527   0.0  11.93     0  0.573  6.120  76.7  2.2875    1  273   \n",
      "503  0.06076   0.0  11.93     0  0.573  6.976  91.0  2.1675    1  273   \n",
      "504  0.10959   0.0  11.93     0  0.573  6.794  89.3  2.3889    1  273   \n",
      "505  0.04741   0.0  11.93     0  0.573  6.030  80.8  2.5050    1  273   \n",
      "\n",
      "     ptratio       b  lstat  medv  \n",
      "0       15.3  396.90   4.98   Low  \n",
      "1       17.8  396.90   9.14   Low  \n",
      "2       17.8  392.83   4.03  High  \n",
      "3       18.7  394.63   2.94  High  \n",
      "4       18.7  396.90   5.33  High  \n",
      "..       ...     ...    ...   ...  \n",
      "501     21.0  391.99   9.67   Low  \n",
      "502     21.0  396.90   9.08   Low  \n",
      "503     21.0  396.90   5.64   Low  \n",
      "504     21.0  393.45   6.48   Low  \n",
      "505     21.0  396.90   7.88   Low  \n",
      "\n",
      "[506 rows x 14 columns]\n"
     ]
    }
   ],
   "source": [
    "url = 'https://raw.githubusercontent.com/selva86/datasets/master/BostonHousing.csv'\n",
    "df = pd.read_csv(url, converters={'medv': lambda medv: 'High' if float(medv) > 25 else 'Low'})\n",
    "print(f\"Столбец 'medv' изменён на `Low` и `High`:\\n{df}\")"
   ]
  },
  {
   "cell_type": "markdown",
   "id": "2ed73b27-6523-4321-85bc-c1a0a2630f35",
   "metadata": {},
   "source": [
    "## Упражнение № 34 (TODO)"
   ]
  },
  {
   "cell_type": "code",
   "execution_count": 177,
   "id": "500e2381-f876-443f-96b6-540101eccb0b",
   "metadata": {},
   "outputs": [
    {
     "data": {
      "text/plain": [
       "0      0\n",
       "1      1\n",
       "2      2\n",
       "3      3\n",
       "4      4\n",
       "5      5\n",
       "6      6\n",
       "7      7\n",
       "8      8\n",
       "9      9\n",
       "10    10\n",
       "11    11\n",
       "12    12\n",
       "13    13\n",
       "14    14\n",
       "dtype: int64"
      ]
     },
     "execution_count": 177,
     "metadata": {},
     "output_type": "execute_result"
    }
   ],
   "source": [
    "L = pd.Series(range(15))\n",
    "L"
   ]
  },
  {
   "cell_type": "markdown",
   "id": "ff89914a-e203-42f9-80e4-a39fcafe3e00",
   "metadata": {},
   "source": [
    "## Упражнение № 35"
   ]
  },
  {
   "cell_type": "code",
   "execution_count": 178,
   "id": "714864a4-0574-41a0-bd15-1aba19bc35b3",
   "metadata": {},
   "outputs": [
    {
     "name": "stdout",
     "output_type": "stream",
     "text": [
      "Испорт только столбцов ['crim', 'medv'] в датафрейм:\n",
      "        crim  medv\n",
      "0    0.00632  24.0\n",
      "1    0.02731  21.6\n",
      "2    0.02729  34.7\n",
      "3    0.03237  33.4\n",
      "4    0.06905  36.2\n",
      "..       ...   ...\n",
      "501  0.06263  22.4\n",
      "502  0.04527  20.6\n",
      "503  0.06076  23.9\n",
      "504  0.10959  22.0\n",
      "505  0.04741  11.9\n",
      "\n",
      "[506 rows x 2 columns]\n"
     ]
    }
   ],
   "source": [
    "url = 'https://raw.githubusercontent.com/selva86/datasets/master/BostonHousing.csv'\n",
    "cols_to_use = [\"crim\", \"medv\"]\n",
    "\n",
    "df = pd.read_csv(url, usecols=cols_to_use)\n",
    "print(f\"Испорт только столбцов {cols_to_use} в датафрейм:\\n{df}\")"
   ]
  },
  {
   "cell_type": "markdown",
   "id": "653366b8-1872-4324-a27d-6ff9fa8cd2be",
   "metadata": {},
   "source": [
    "## Упражнение № 36 (TODO)"
   ]
  },
  {
   "cell_type": "code",
   "execution_count": null,
   "id": "dbad340b-ba6e-4fd7-a2f3-e3134175bdfb",
   "metadata": {},
   "outputs": [],
   "source": []
  },
  {
   "cell_type": "code",
   "execution_count": null,
   "id": "b3112e4d-a54c-4307-8af8-caa975acdfaa",
   "metadata": {},
   "outputs": [],
   "source": []
  }
 ],
 "metadata": {
  "kernelspec": {
   "display_name": "Python 3 (ipykernel)",
   "language": "python",
   "name": "python3"
  },
  "language_info": {
   "codemirror_mode": {
    "name": "ipython",
    "version": 3
   },
   "file_extension": ".py",
   "mimetype": "text/x-python",
   "name": "python",
   "nbconvert_exporter": "python",
   "pygments_lexer": "ipython3",
   "version": "3.11.5"
  }
 },
 "nbformat": 4,
 "nbformat_minor": 5
}
