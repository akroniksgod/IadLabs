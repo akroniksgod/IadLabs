{
 "cells": [
  {
   "cell_type": "markdown",
   "id": "7f43f5cf-955e-4840-b0b4-6817987fccf3",
   "metadata": {},
   "source": [
    "# Упражнения на работу с pandas"
   ]
  },
  {
   "cell_type": "markdown",
   "id": "2149f747-60e2-4135-974e-5ba8c8ed10ca",
   "metadata": {},
   "source": [
    "## Упражнение № 1"
   ]
  },
  {
   "cell_type": "code",
   "execution_count": 1,
   "id": "f78085b9-6e68-41b6-b3ff-8c70370d637e",
   "metadata": {},
   "outputs": [],
   "source": [
    "import numpy as np\n",
    "\n",
    "mylist = list('abcedfghijklmnopqrstuvwxyz')\n",
    "myarr = np.arange(26)\n",
    "mydict = dict(zip(mylist, myarr))"
   ]
  },
  {
   "cell_type": "code",
   "execution_count": 2,
   "id": "af0ce4bc-ecbf-4e8e-a151-d061a32ca54f",
   "metadata": {},
   "outputs": [
    {
     "name": "stdout",
     "output_type": "stream",
     "text": [
      "series1:\n",
      "0     a\n",
      "1     b\n",
      "2     c\n",
      "3     e\n",
      "4     d\n",
      "5     f\n",
      "6     g\n",
      "7     h\n",
      "8     i\n",
      "9     j\n",
      "10    k\n",
      "11    l\n",
      "12    m\n",
      "13    n\n",
      "14    o\n",
      "15    p\n",
      "16    q\n",
      "17    r\n",
      "18    s\n",
      "19    t\n",
      "20    u\n",
      "21    v\n",
      "22    w\n",
      "23    x\n",
      "24    y\n",
      "25    z\n",
      "dtype: object\n",
      "\n",
      "series2:\n",
      "0      0\n",
      "1      1\n",
      "2      2\n",
      "3      3\n",
      "4      4\n",
      "5      5\n",
      "6      6\n",
      "7      7\n",
      "8      8\n",
      "9      9\n",
      "10    10\n",
      "11    11\n",
      "12    12\n",
      "13    13\n",
      "14    14\n",
      "15    15\n",
      "16    16\n",
      "17    17\n",
      "18    18\n",
      "19    19\n",
      "20    20\n",
      "21    21\n",
      "22    22\n",
      "23    23\n",
      "24    24\n",
      "25    25\n",
      "dtype: int32\n",
      "\n",
      "series3:\n",
      "a     0\n",
      "b     1\n",
      "c     2\n",
      "e     3\n",
      "d     4\n",
      "f     5\n",
      "g     6\n",
      "h     7\n",
      "i     8\n",
      "j     9\n",
      "k    10\n",
      "l    11\n",
      "m    12\n",
      "n    13\n",
      "o    14\n",
      "p    15\n",
      "q    16\n",
      "r    17\n",
      "s    18\n",
      "t    19\n",
      "u    20\n",
      "v    21\n",
      "w    22\n",
      "x    23\n",
      "y    24\n",
      "z    25\n",
      "dtype: int32\n",
      "\n"
     ]
    }
   ],
   "source": [
    "import pandas as pd\n",
    "\n",
    "series1 = pd.Series(mylist)\n",
    "series2 = pd.Series(myarr)\n",
    "series3 = pd.Series(mydict)\n",
    "\n",
    "print(f\"series1:\\n{series1}\\n\")\n",
    "print(f\"series2:\\n{series2}\\n\")\n",
    "print(f\"series3:\\n{series3}\\n\")"
   ]
  },
  {
   "cell_type": "markdown",
   "id": "8411cca4-b44d-4be5-9f1b-c7ce8e0393f8",
   "metadata": {},
   "source": [
    "## Упражнение № 2"
   ]
  },
  {
   "cell_type": "code",
   "execution_count": 3,
   "id": "f4bdf792-73a5-43e3-b2ce-c2ec7858075c",
   "metadata": {},
   "outputs": [],
   "source": [
    "import numpy as np\n",
    "\n",
    "mylist = list('abcedfghijklmnopqrstuvwxyz')\n",
    "myarr = np.arange(26)\n",
    "mydict = dict(zip(mylist, myarr))\n",
    "ser = pd.Series(mydict)"
   ]
  },
  {
   "cell_type": "code",
   "execution_count": 4,
   "id": "39c7f1dc-635e-4f4d-ab7f-7f3b9ae4a096",
   "metadata": {},
   "outputs": [
    {
     "name": "stdout",
     "output_type": "stream",
     "text": [
      "Преобразованный ряд в датафрейм с новым столбцом:\n",
      "   index   0\n",
      "0      a   0\n",
      "1      b   1\n",
      "2      c   2\n",
      "3      e   3\n",
      "4      d   4\n",
      "5      f   5\n",
      "6      g   6\n",
      "7      h   7\n",
      "8      i   8\n",
      "9      j   9\n",
      "10     k  10\n",
      "11     l  11\n",
      "12     m  12\n",
      "13     n  13\n",
      "14     o  14\n",
      "15     p  15\n",
      "16     q  16\n",
      "17     r  17\n",
      "18     s  18\n",
      "19     t  19\n",
      "20     u  20\n",
      "21     v  21\n",
      "22     w  22\n",
      "23     x  23\n",
      "24     y  24\n",
      "25     z  25\n"
     ]
    }
   ],
   "source": [
    "df = ser.to_frame().reset_index()\n",
    "print(f\"Преобразованный ряд в датафрейм с новым столбцом:\\n{df}\")"
   ]
  },
  {
   "cell_type": "markdown",
   "id": "d0aa03f1-dd9c-49ca-a095-be00b97d003d",
   "metadata": {},
   "source": [
    "## Упражнение № 3"
   ]
  },
  {
   "cell_type": "code",
   "execution_count": 5,
   "id": "23e57912-05f8-4f9b-bf56-679390596036",
   "metadata": {},
   "outputs": [],
   "source": [
    "import numpy as np\n",
    "\n",
    "mylist = list('abcedfghijklmnopqrstuvwxyz')\n",
    "myarr = np.arange(26)\n",
    "mydict = dict(zip(mylist, myarr))"
   ]
  },
  {
   "cell_type": "code",
   "execution_count": 6,
   "id": "91b17b7e-b4f9-4080-8108-5f07efc5824c",
   "metadata": {},
   "outputs": [
    {
     "name": "stdout",
     "output_type": "stream",
     "text": [
      "Объединённый датафрейм из двух рядов:\n",
      "   ser1  ser2\n",
      "0     a     0\n",
      "1     b     1\n",
      "2     c     2\n",
      "3     e     3\n",
      "4     d     4\n",
      "5     f     5\n",
      "6     g     6\n",
      "7     h     7\n",
      "8     i     8\n",
      "9     j     9\n",
      "10    k    10\n",
      "11    l    11\n",
      "12    m    12\n",
      "13    n    13\n",
      "14    o    14\n",
      "15    p    15\n",
      "16    q    16\n",
      "17    r    17\n",
      "18    s    18\n",
      "19    t    19\n",
      "20    u    20\n",
      "21    v    21\n",
      "22    w    22\n",
      "23    x    23\n",
      "24    y    24\n",
      "25    z    25\n"
     ]
    }
   ],
   "source": [
    "ser1 = pd.Series(mylist)\n",
    "ser2 = pd.Series(myarr)\n",
    "\n",
    "df = pd.concat([ser1, ser2], axis=1)\n",
    "df = pd.DataFrame({ \"ser1\": ser1, \"ser2\": ser2 })\n",
    "print(f\"Объединённый датафрейм из двух рядов:\\n{df}\")"
   ]
  },
  {
   "cell_type": "markdown",
   "id": "98d2d283-361e-436c-9ec8-46e07fef74ec",
   "metadata": {},
   "source": [
    "## Упражнение № 4"
   ]
  },
  {
   "cell_type": "code",
   "execution_count": 7,
   "id": "be61011d-32eb-410e-b527-03234f8d1d75",
   "metadata": {},
   "outputs": [],
   "source": [
    "mylist = list('abcedfghijklmnopqrstuvwxyz')\n",
    "ser = pd.Series(mylist)"
   ]
  },
  {
   "cell_type": "code",
   "execution_count": 8,
   "id": "99453527-29dd-4def-958a-bc3cdd23c76d",
   "metadata": {
    "scrolled": true
   },
   "outputs": [
    {
     "name": "stdout",
     "output_type": "stream",
     "text": [
      "С добавлением названия столбца:\n",
      "0     a\n",
      "1     b\n",
      "2     c\n",
      "3     e\n",
      "4     d\n",
      "5     f\n",
      "6     g\n",
      "7     h\n",
      "8     i\n",
      "9     j\n",
      "10    k\n",
      "11    l\n",
      "12    m\n",
      "13    n\n",
      "14    o\n",
      "15    p\n",
      "16    q\n",
      "17    r\n",
      "18    s\n",
      "19    t\n",
      "20    u\n",
      "21    v\n",
      "22    w\n",
      "23    x\n",
      "24    y\n",
      "25    z\n",
      "Name: latin_letters, dtype: object\n"
     ]
    }
   ],
   "source": [
    "ser.name = \"latin_letters\"\n",
    "print(f\"С добавлением названия столбца:\\n{ser}\")"
   ]
  },
  {
   "cell_type": "markdown",
   "id": "17702f03-e426-4d20-be9b-4bad7d3b4555",
   "metadata": {},
   "source": [
    "## Упражнение № 5"
   ]
  },
  {
   "cell_type": "code",
   "execution_count": 9,
   "id": "9f71cbfd-402c-4a55-8089-dcf3d467a816",
   "metadata": {},
   "outputs": [
    {
     "name": "stdout",
     "output_type": "stream",
     "text": [
      "Очищенный первый ряд от значений второго ряда:\n",
      "0    1\n",
      "1    2\n",
      "2    3\n",
      "dtype: int64\n"
     ]
    }
   ],
   "source": [
    "ser1 = pd.Series([1, 2, 3, 4, 5])\n",
    "ser2 = pd.Series([4, 5, 6, 7, 8])\n",
    "\n",
    "ser1 = ser1[~ser1.isin(ser2)]\n",
    "print(f\"Очищенный первый ряд от значений второго ряда:\\n{ser1}\")"
   ]
  },
  {
   "cell_type": "markdown",
   "id": "d51becc4-39a7-478c-84be-635ed3b61dcc",
   "metadata": {},
   "source": [
    "## Упражнение № 6"
   ]
  },
  {
   "cell_type": "code",
   "execution_count": 10,
   "id": "05ea04e6-fc71-4df7-8728-a2207705ad14",
   "metadata": {},
   "outputs": [],
   "source": [
    "ser1 = pd.Series([1, 2, 3, 4, 5])\n",
    "ser2 = pd.Series([4, 5, 6, 7, 8])"
   ]
  },
  {
   "cell_type": "code",
   "execution_count": 11,
   "id": "8a1cdc3a-5401-495a-bd19-ef841dd928a9",
   "metadata": {
    "scrolled": true
   },
   "outputs": [
    {
     "name": "stdout",
     "output_type": "stream",
     "text": [
      "Не являются общими для двух рядов:\n",
      "0    1\n",
      "1    2\n",
      "2    3\n",
      "5    6\n",
      "6    7\n",
      "7    8\n",
      "dtype: int64\n"
     ]
    }
   ],
   "source": [
    "series_union = pd.Series(np.union1d(ser1, ser2))\n",
    "series_intersection = pd.Series(np.intersect1d(ser1, ser2))\n",
    "\n",
    "ser = series_union[~series_union.isin(series_intersection)]\n",
    "print(f\"Не являются общими для двух рядов:\\n{ser}\")"
   ]
  },
  {
   "cell_type": "markdown",
   "id": "6840a917-5ebf-4aa1-ba7a-6b948a71ce9b",
   "metadata": {},
   "source": [
    "## Упражнение № 7"
   ]
  },
  {
   "cell_type": "code",
   "execution_count": 12,
   "id": "6343536a-bb5d-472d-8255-23cde50a79f8",
   "metadata": {},
   "outputs": [],
   "source": [
    "ser = pd.Series(np.random.normal(10, 5, 25))"
   ]
  },
  {
   "cell_type": "code",
   "execution_count": 13,
   "id": "0c25fbd3-be1f-4651-a151-8c044f41c3f4",
   "metadata": {},
   "outputs": [
    {
     "name": "stdout",
     "output_type": "stream",
     "text": [
      "Исходные данные:\n",
      "0     17.983485\n",
      "1      9.875867\n",
      "2      9.662115\n",
      "3      3.973429\n",
      "4     12.106647\n",
      "5      4.288173\n",
      "6     15.000733\n",
      "7      8.905703\n",
      "8     10.884550\n",
      "9      4.441821\n",
      "10    12.630574\n",
      "11     8.892492\n",
      "12     8.269609\n",
      "13     8.959210\n",
      "14     1.990706\n",
      "15     5.740698\n",
      "16    12.534512\n",
      "17     1.195771\n",
      "18    13.540819\n",
      "19    10.098038\n",
      "20    19.795928\n",
      "21    11.763765\n",
      "22     7.140883\n",
      "23    15.527053\n",
      "24     5.817494\n",
      "dtype: float64\n",
      "\n",
      "[['Минимальное значение' '1.1957705778727181']\n",
      " ['25-й процентиль' '5.817493708570539']\n",
      " ['Медиана' '9.662114701845384']\n",
      " ['75-й процентиль' '12.534512348038618']\n",
      " ['Максимальное значение' '19.795927554741723']]\n"
     ]
    }
   ],
   "source": [
    "print(f\"Исходные данные:\\n{ser}\\n\")\n",
    "names = [\n",
    "    \"Минимальное значение\",\n",
    "    \"25-й процентиль\",\n",
    "    \"Медиана\",\n",
    "    \"75-й процентиль\",\n",
    "    \"Максимальное значение\",\n",
    "]\n",
    "results = np.percentile(ser, q=[0, 25, 50, 75, 100])\n",
    "pretty_results = np.stack((names, results), axis=1)\n",
    "print(pretty_results)"
   ]
  },
  {
   "cell_type": "markdown",
   "id": "c87cf476-c5a4-4fc6-9976-3aa71aaf27ff",
   "metadata": {},
   "source": [
    "## Упражнение № 8"
   ]
  },
  {
   "cell_type": "code",
   "execution_count": 14,
   "id": "8a95e432-969f-4086-9e34-d5e9b044383f",
   "metadata": {},
   "outputs": [],
   "source": [
    "ser = pd.Series(np.take(list('abcdefgh'), np.random.randint(8, size=30)))"
   ]
  },
  {
   "cell_type": "code",
   "execution_count": 16,
   "id": "e5001d43-bde7-4273-a493-ebdbda2365ae",
   "metadata": {},
   "outputs": [
    {
     "name": "stdout",
     "output_type": "stream",
     "text": [
      "Исходные данные:\n",
      "0     g\n",
      "1     a\n",
      "2     g\n",
      "3     a\n",
      "4     f\n",
      "5     h\n",
      "6     e\n",
      "7     f\n",
      "8     h\n",
      "9     e\n",
      "10    d\n",
      "11    a\n",
      "12    c\n",
      "13    e\n",
      "14    e\n",
      "15    e\n",
      "16    c\n",
      "17    h\n",
      "18    d\n",
      "19    d\n",
      "20    b\n",
      "21    g\n",
      "22    h\n",
      "23    g\n",
      "24    f\n",
      "25    b\n",
      "26    g\n",
      "27    a\n",
      "28    f\n",
      "29    h\n",
      "dtype: object\n",
      "\n",
      "Частота встречаемости каждого уникального значения:\n",
      "g    5\n",
      "h    5\n",
      "e    5\n",
      "a    4\n",
      "f    4\n",
      "d    3\n",
      "c    2\n",
      "b    2\n",
      "Name: count, dtype: int64\n",
      "\n"
     ]
    }
   ],
   "source": [
    "print(f\"Исходные данные:\\n{ser}\\n\")\n",
    "uniques = ser.value_counts()\n",
    "print(f\"Частота встречаемости каждого уникального значения:\\n{uniques}\\n\")"
   ]
  },
  {
   "cell_type": "markdown",
   "id": "ee5f5e4e-a824-4f00-99a8-97dad9e3507c",
   "metadata": {},
   "source": [
    "## Упражнение № 9"
   ]
  },
  {
   "cell_type": "code",
   "execution_count": 17,
   "id": "92234d63-3a30-4f11-9bb8-cf635adc36a9",
   "metadata": {},
   "outputs": [],
   "source": [
    "np.random.RandomState(100)\n",
    "ser = pd.Series(np.random.randint(1, 5, [12]))"
   ]
  },
  {
   "cell_type": "code",
   "execution_count": 29,
   "id": "d03a571e-35b4-48b3-9466-6dad8e3b868f",
   "metadata": {},
   "outputs": [
    {
     "name": "stdout",
     "output_type": "stream",
     "text": [
      "Исходные данные:\n",
      "0          1\n",
      "1          3\n",
      "2          3\n",
      "3          1\n",
      "4          1\n",
      "5          1\n",
      "6          3\n",
      "7     Прочее\n",
      "8          3\n",
      "9          3\n",
      "10         1\n",
      "11         3\n",
      "dtype: object\n",
      "\n",
      "Частота встречаемости каждого уникального значения:\n",
      "3         6\n",
      "1         5\n",
      "Прочее    1\n",
      "Name: count, dtype: int64\n",
      "\n",
      "Топ 2:\n",
      "3    6\n",
      "1    5\n",
      "Name: count, dtype: int64\n",
      "\n",
      "Два наиболее встречающихся оставлены, другие заменены на 'Прочее':\n",
      "0          1\n",
      "1          3\n",
      "2          3\n",
      "3          1\n",
      "4          1\n",
      "5          1\n",
      "6          3\n",
      "7     Прочее\n",
      "8          3\n",
      "9          3\n",
      "10         1\n",
      "11         3\n",
      "dtype: object\n"
     ]
    }
   ],
   "source": [
    "print(f\"Исходные данные:\\n{ser}\\n\")\n",
    "uniques = ser.value_counts()\n",
    "print(f\"Частота встречаемости каждого уникального значения:\\n{uniques}\\n\")\n",
    "\n",
    "top_2_uniques = uniques[:2]\n",
    "print(f\"Топ 2:\\n{top_2_uniques}\\n\")\n",
    "\n",
    "\n",
    "ser[~ser.isin(uniques.index[:2])] = 'Прочее'\n",
    "print(f\"Два наиболее встречающихся оставлены, другие заменены на 'Прочее':\\n{ser}\")"
   ]
  },
  {
   "cell_type": "markdown",
   "id": "fdcabf89-168e-43bc-bb8b-205c342b5b0b",
   "metadata": {},
   "source": [
    "## Упражнение № 10"
   ]
  },
  {
   "cell_type": "code",
   "execution_count": 54,
   "id": "880d3978-53d7-459b-b2d9-b6764a7f1e51",
   "metadata": {},
   "outputs": [],
   "source": [
    "ser = pd.Series(np.random.random(20))"
   ]
  },
  {
   "cell_type": "code",
   "execution_count": 56,
   "id": "b7431539-6226-4af1-b0c3-b549dbacba22",
   "metadata": {},
   "outputs": [
    {
     "name": "stdout",
     "output_type": "stream",
     "text": [
      "Исходные данные:\n",
      "0     0.720953\n",
      "1     0.794464\n",
      "2     0.234194\n",
      "3     0.698746\n",
      "4     0.431988\n",
      "5     0.272417\n",
      "6     0.681885\n",
      "7     0.000278\n",
      "8     0.776494\n",
      "9     0.004703\n",
      "10    0.955020\n",
      "11    0.684519\n",
      "12    0.594119\n",
      "13    0.802257\n",
      "14    0.703727\n",
      "15    0.414156\n",
      "16    0.963164\n",
      "17    0.764763\n",
      "18    0.100223\n",
      "19    0.485981\n",
      "dtype: float64\n",
      "\n",
      "Значения заменены на децентили:\n",
      "0      7th\n",
      "1      9th\n",
      "2      2nd\n",
      "3      6th\n",
      "4      4th\n",
      "5      3rd\n",
      "6      5th\n",
      "7      1st\n",
      "8      8th\n",
      "9      1st\n",
      "10    10th\n",
      "11     6th\n",
      "12     5th\n",
      "13     9th\n",
      "14     7th\n",
      "15     3rd\n",
      "16    10th\n",
      "17     8th\n",
      "18     2nd\n",
      "19     4th\n",
      "dtype: category\n",
      "Categories (10, object): ['1st' < '2nd' < '3rd' < '4th' ... '7th' < '8th' < '9th' < '10th']\n",
      "\n"
     ]
    }
   ],
   "source": [
    "print(f\"Исходные данные:\\n{ser}\\n\")\n",
    "\n",
    "cut_ser = pd.qcut(\n",
    "                ser, \n",
    "                q=[0, .1, .2, .3, .4, .5, .6, .7, .8, .9, 1], \n",
    "                labels=['1st', '2nd', '3rd', '4th', '5th', '6th', '7th', '8th', '9th', '10th']\n",
    ")\n",
    "print(f\"Значения заменены на децентили:\\n{cut_ser}\\n\")"
   ]
  },
  {
   "cell_type": "markdown",
   "id": "eda6c558-ff03-4caa-942d-e02a10b4d833",
   "metadata": {},
   "source": [
    "## Упражнение № 11"
   ]
  },
  {
   "cell_type": "code",
   "execution_count": 60,
   "id": "06ec8052-6040-4308-9c6c-81253515b6b7",
   "metadata": {},
   "outputs": [],
   "source": [
    "ser = pd.Series(np.random.randint(1, 10, 35))"
   ]
  },
  {
   "cell_type": "code",
   "execution_count": 61,
   "id": "41bab326-9996-4583-8eb8-5cb8ee7abf73",
   "metadata": {
    "scrolled": true
   },
   "outputs": [
    {
     "name": "stdout",
     "output_type": "stream",
     "text": [
      "Исходные данные:\n",
      "0     5\n",
      "1     9\n",
      "2     6\n",
      "3     6\n",
      "4     1\n",
      "5     4\n",
      "6     5\n",
      "7     9\n",
      "8     5\n",
      "9     6\n",
      "10    6\n",
      "11    7\n",
      "12    3\n",
      "13    5\n",
      "14    3\n",
      "15    3\n",
      "16    2\n",
      "17    6\n",
      "18    1\n",
      "19    5\n",
      "20    2\n",
      "21    7\n",
      "22    6\n",
      "23    3\n",
      "24    8\n",
      "25    1\n",
      "26    9\n",
      "27    7\n",
      "28    4\n",
      "29    1\n",
      "30    1\n",
      "31    5\n",
      "32    7\n",
      "33    4\n",
      "34    9\n",
      "dtype: int32\n",
      "\n",
      "Датафрейм с 7 строками и 5 столбцами:\n",
      "   0  1  2  3  4\n",
      "0  5  9  6  6  1\n",
      "1  4  5  9  5  6\n",
      "2  6  7  3  5  3\n",
      "3  3  2  6  1  5\n",
      "4  2  7  6  3  8\n",
      "5  1  9  7  4  1\n",
      "6  1  5  7  4  9\n",
      "\n"
     ]
    }
   ],
   "source": [
    "print(f\"Исходные данные:\\n{ser}\\n\")\n",
    "\n",
    "df = pd.DataFrame(ser.values.reshape(7, 5))\n",
    "print(f\"Датафрейм с 7 строками и 5 столбцами:\\n{df}\\n\")"
   ]
  },
  {
   "cell_type": "markdown",
   "id": "09c607c5-5d65-4139-9cf0-80b4c6e59841",
   "metadata": {},
   "source": [
    "## Упражнение № 12"
   ]
  },
  {
   "cell_type": "code",
   "execution_count": 62,
   "id": "2062a8fd-5ef0-402b-b4ce-caae70de48ae",
   "metadata": {},
   "outputs": [],
   "source": [
    "ser = pd.Series(np.random.randint(1, 10, 7))"
   ]
  },
  {
   "cell_type": "code",
   "execution_count": 64,
   "id": "5f0230e2-391d-480a-bad9-c9ab92162fd0",
   "metadata": {},
   "outputs": [
    {
     "name": "stdout",
     "output_type": "stream",
     "text": [
      "Исходные данные:\n",
      "0    2\n",
      "1    7\n",
      "2    7\n",
      "3    9\n",
      "4    2\n",
      "5    3\n",
      "6    4\n",
      "dtype: int32\n",
      "\n",
      "Позиции чисел, кратных 3, из исходного ряда:\n",
      "[[3]\n",
      " [5]]\n",
      "\n"
     ]
    }
   ],
   "source": [
    "print(f\"Исходные данные:\\n{ser}\\n\")\n",
    "\n",
    "indexes = np.argwhere(ser % 3 == 0)\n",
    "print(f\"Позиции чисел, кратных 3, из исходного ряда:\\n{indexes}\\n\")"
   ]
  },
  {
   "cell_type": "markdown",
   "id": "68658f28-fba8-4de3-bee8-9733ba3f44b9",
   "metadata": {},
   "source": [
    "## Упражнение № 13"
   ]
  },
  {
   "cell_type": "code",
   "execution_count": 65,
   "id": "cc0f0442-7237-42fe-86ae-388035390428",
   "metadata": {},
   "outputs": [],
   "source": [
    "ser = pd.Series(list('abcdefghijklmnopqrstuvwxyz'))\n",
    "pos = [0, 4, 8, 14, 20]"
   ]
  },
  {
   "cell_type": "code",
   "execution_count": 67,
   "id": "2ca5aa1c-d20c-4c90-aed1-5053b6c33be0",
   "metadata": {},
   "outputs": [
    {
     "name": "stdout",
     "output_type": "stream",
     "text": [
      "Исходные данные:\n",
      "0     a\n",
      "1     b\n",
      "2     c\n",
      "3     d\n",
      "4     e\n",
      "5     f\n",
      "6     g\n",
      "7     h\n",
      "8     i\n",
      "9     j\n",
      "10    k\n",
      "11    l\n",
      "12    m\n",
      "13    n\n",
      "14    o\n",
      "15    p\n",
      "16    q\n",
      "17    r\n",
      "18    s\n",
      "19    t\n",
      "20    u\n",
      "21    v\n",
      "22    w\n",
      "23    x\n",
      "24    y\n",
      "25    z\n",
      "dtype: object\n",
      "\n",
      "Элементы, находящиеся на позициях в списке:\n",
      "0     a\n",
      "4     e\n",
      "8     i\n",
      "14    o\n",
      "20    u\n",
      "dtype: object\n",
      "\n"
     ]
    }
   ],
   "source": [
    "# print(f\"Исходные данные:\\n{ser}\\n\")\n",
    "\n",
    "poses = ser.take(pos)\n",
    "print(f\"Элементы, находящиеся на позициях в списке:\\n{poses}\\n\")"
   ]
  },
  {
   "cell_type": "markdown",
   "id": "5d13ad34-f197-4e49-ad14-dcae2675df1c",
   "metadata": {},
   "source": [
    "## Упражнение № 14"
   ]
  },
  {
   "cell_type": "code",
   "execution_count": 68,
   "id": "c438c79c-3106-431f-89d1-75493c1c44e1",
   "metadata": {},
   "outputs": [],
   "source": [
    "ser1 = pd.Series(range(5))\n",
    "ser2 = pd.Series(list('abcde'))"
   ]
  },
  {
   "cell_type": "code",
   "execution_count": 71,
   "id": "f5103fa8-9ca2-4e2b-96c5-414d4c91e02f",
   "metadata": {},
   "outputs": [
    {
     "name": "stdout",
     "output_type": "stream",
     "text": [
      "Объедининённые по вертикали и горизонтали ряды:\n",
      "   0  1\n",
      "0  0  a\n",
      "1  1  b\n",
      "2  2  c\n",
      "3  3  d\n",
      "4  4  e\n"
     ]
    }
   ],
   "source": [
    "df = pd.concat([ser1, ser2], axis=1)\n",
    "print(f\"Объедининённые по вертикали и горизонтали ряды:\\n{df}\")"
   ]
  },
  {
   "cell_type": "markdown",
   "id": "f6956657-56e7-48d5-b526-524f6f9baa43",
   "metadata": {},
   "source": [
    "## Упражнение № 15"
   ]
  },
  {
   "cell_type": "code",
   "execution_count": 72,
   "id": "90873216-838b-4b26-96f6-15449062e63b",
   "metadata": {},
   "outputs": [],
   "source": [
    "ser1 = pd.Series([10, 9, 6, 5, 3, 1, 12, 8, 13])\n",
    "ser2 = pd.Series([1, 3, 10, 13])"
   ]
  },
  {
   "cell_type": "code",
   "execution_count": 76,
   "id": "fa8cdb42-cd40-41bd-8d40-bec5d686857f",
   "metadata": {},
   "outputs": [
    {
     "name": "stdout",
     "output_type": "stream",
     "text": [
      "Позиции элементов `ser2` в `ser1` в виде списка\n"
     ]
    },
    {
     "data": {
      "text/plain": [
       "[5, 4, 0, 8]"
      ]
     },
     "execution_count": 76,
     "metadata": {},
     "output_type": "execute_result"
    }
   ],
   "source": [
    "print(\"Позиции элементов `ser2` в `ser1` в виде списка\")\n",
    "[pd.Index(ser1).get_loc(i) for i in ser2]"
   ]
  },
  {
   "cell_type": "code",
   "execution_count": null,
   "id": "ca1fb407-ecfd-466c-bdd4-7562ac68c8df",
   "metadata": {},
   "outputs": [],
   "source": []
  },
  {
   "cell_type": "code",
   "execution_count": null,
   "id": "2448c4b2-a13f-4761-954a-b379cbe089c7",
   "metadata": {},
   "outputs": [],
   "source": []
  }
 ],
 "metadata": {
  "kernelspec": {
   "display_name": "Python 3 (ipykernel)",
   "language": "python",
   "name": "python3"
  },
  "language_info": {
   "codemirror_mode": {
    "name": "ipython",
    "version": 3
   },
   "file_extension": ".py",
   "mimetype": "text/x-python",
   "name": "python",
   "nbconvert_exporter": "python",
   "pygments_lexer": "ipython3",
   "version": "3.11.5"
  }
 },
 "nbformat": 4,
 "nbformat_minor": 5
}
