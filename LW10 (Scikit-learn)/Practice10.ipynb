{
 "cells": [
  {
   "cell_type": "markdown",
   "id": "4bdb997d-b722-4e86-87ba-38710cf2154f",
   "metadata": {},
   "source": [
    "# Практика 10"
   ]
  },
  {
   "cell_type": "markdown",
   "id": "a0cb2c67-d787-45ff-a201-4a8d55ea1d26",
   "metadata": {},
   "source": [
    "## Задание 1"
   ]
  },
  {
   "cell_type": "code",
   "execution_count": 1,
   "id": "c49314ae-01ad-42f2-b9ef-3b4516bd033e",
   "metadata": {},
   "outputs": [],
   "source": [
    "from sklearn.datasets import load_breast_cancer\n",
    "\n",
    "dataset = load_breast_cancer()"
   ]
  },
  {
   "cell_type": "markdown",
   "id": "9aa268d7-e799-4ee2-845b-b175f8b35ef2",
   "metadata": {},
   "source": [
    "## Задание 2"
   ]
  },
  {
   "cell_type": "code",
   "execution_count": 2,
   "id": "8cbab9ad-114b-4364-a273-8e4d7b23817d",
   "metadata": {},
   "outputs": [
    {
     "name": "stdout",
     "output_type": "stream",
     "text": [
      "data_col_names: ['mean radius' 'mean texture' 'mean perimeter' 'mean area'\n",
      " 'mean smoothness' 'mean compactness' 'mean concavity'\n",
      " 'mean concave points' 'mean symmetry' 'mean fractal dimension'\n",
      " 'radius error' 'texture error' 'perimeter error' 'area error'\n",
      " 'smoothness error' 'compactness error' 'concavity error'\n",
      " 'concave points error' 'symmetry error' 'fractal dimension error'\n",
      " 'worst radius' 'worst texture' 'worst perimeter' 'worst area'\n",
      " 'worst smoothness' 'worst compactness' 'worst concavity'\n",
      " 'worst concave points' 'worst symmetry' 'worst fractal dimension']\n",
      "\n",
      "data: [[1.799e+01 1.038e+01 1.228e+02 ... 2.654e-01 4.601e-01 1.189e-01]\n",
      " [2.057e+01 1.777e+01 1.329e+02 ... 1.860e-01 2.750e-01 8.902e-02]\n",
      " [1.969e+01 2.125e+01 1.300e+02 ... 2.430e-01 3.613e-01 8.758e-02]\n",
      " ...\n",
      " [1.660e+01 2.808e+01 1.083e+02 ... 1.418e-01 2.218e-01 7.820e-02]\n",
      " [2.060e+01 2.933e+01 1.401e+02 ... 2.650e-01 4.087e-01 1.240e-01]\n",
      " [7.760e+00 2.454e+01 4.792e+01 ... 0.000e+00 2.871e-01 7.039e-02]]\n",
      "\n"
     ]
    }
   ],
   "source": [
    "data_col_names = dataset.feature_names\n",
    "data = dataset.data\n",
    "target = dataset.target\n",
    "\n",
    "print(f'data_col_names: {data_col_names}\\n')\n",
    "print(f'data: {data}\\n')"
   ]
  },
  {
   "cell_type": "markdown",
   "id": "3a275423-ef22-43b5-a785-536cc70f4184",
   "metadata": {},
   "source": [
    "## Задание 3"
   ]
  },
  {
   "cell_type": "code",
   "execution_count": 3,
   "id": "58ff8a13-374a-464b-87b1-f3e2c4da44f0",
   "metadata": {},
   "outputs": [],
   "source": [
    "import numpy as np\n",
    "import pandas as pd\n",
    "from numpy import linalg as LA\n",
    "\n",
    "def custom_pca(initial_data, pс_number: int):\n",
    "    df = pd.DataFrame(data=initial_data, columns=data_col_names)\n",
    "    \n",
    "    # нормализуем (вычитая для каждого значения в колонке среднее значения этой колонки)\n",
    "    df = df - df.mean()\n",
    "    numpy_arr = pd.DataFrame(df).to_numpy()\n",
    "        \n",
    "    # строим матрицу ковариации\n",
    "    cov_matr = np.cov(numpy_arr, rowvar=False)\n",
    "    \n",
    "    # диагонализируем матрицу\n",
    "    eigenvalues, eigenvectors = LA.eig(cov_matr)\n",
    "\n",
    "    # сортируем векторы\n",
    "    sorted_indexes = np.argsort(-eigenvalues)\n",
    "    \n",
    "    # оставляем N главных компонент\n",
    "    pc_indexes = sorted_indexes[:pс_number]\n",
    "    \n",
    "    # оставляем N главных компонент    \n",
    "    n_principal_components = eigenvectors[:, pc_indexes]\n",
    "\n",
    "    # модифицируем исходные нормализованные данные\n",
    "    dotted_data = np.dot(numpy_arr, n_principal_components)\n",
    "    return dotted_data"
   ]
  },
  {
   "cell_type": "markdown",
   "id": "fee2c36b-f4c2-48b7-aab3-748ce4a877b9",
   "metadata": {},
   "source": [
    "## Задание 4"
   ]
  },
  {
   "cell_type": "code",
   "execution_count": 4,
   "id": "a6bc0dfa-e668-46f8-9917-da6fb78e0d96",
   "metadata": {},
   "outputs": [],
   "source": [
    "from sklearn.decomposition import PCA\n",
    "\n",
    "def sklearn_pca(initial_data, pс_number: int):\n",
    "    X = np.array(data)\n",
    "    pca = PCA(n_components=pс_number)\n",
    "    pca.fit(X)\n",
    "    return pca.transform(data)"
   ]
  },
  {
   "cell_type": "code",
   "execution_count": 5,
   "id": "1b70fa1f-4c71-4029-b705-6e4ac7a8c892",
   "metadata": {},
   "outputs": [
    {
     "data": {
      "text/plain": [
       "array([[1160.1425737 , -293.91754364],\n",
       "       [1269.12244319,   15.63018184],\n",
       "       [ 995.79388896,   39.15674324],\n",
       "       ...,\n",
       "       [ 314.50175618,   47.55352518],\n",
       "       [1124.85811531,   34.12922497],\n",
       "       [-771.52762188,  -88.64310636]])"
      ]
     },
     "execution_count": 5,
     "metadata": {},
     "output_type": "execute_result"
    }
   ],
   "source": [
    "sklearn_pca(data, 2)"
   ]
  },
  {
   "cell_type": "code",
   "execution_count": 6,
   "id": "bcd44c64-e45a-47d0-931c-8c3bbeff57ac",
   "metadata": {},
   "outputs": [
    {
     "data": {
      "text/plain": [
       "array([[1160.1425737 , -293.91754364,   48.57839763],\n",
       "       [1269.12244319,   15.63018184,  -35.39453423],\n",
       "       [ 995.79388896,   39.15674324,   -1.70975298],\n",
       "       ...,\n",
       "       [ 314.50175618,   47.55352518,  -10.44240718],\n",
       "       [1124.85811531,   34.12922497,  -19.74208742],\n",
       "       [-771.52762188,  -88.64310636,   23.88903189]])"
      ]
     },
     "execution_count": 6,
     "metadata": {},
     "output_type": "execute_result"
    }
   ],
   "source": [
    "sklearn_pca(data, 3)"
   ]
  },
  {
   "cell_type": "code",
   "execution_count": 7,
   "id": "1a223e9c-0f27-49b2-961b-0c8d0ade9d20",
   "metadata": {},
   "outputs": [
    {
     "data": {
      "text/plain": [
       "array([[1160.1425737 , -293.91754364,   48.57839763,   -8.71197531],\n",
       "       [1269.12244319,   15.63018184,  -35.39453423,   17.86128323],\n",
       "       [ 995.79388896,   39.15674324,   -1.70975298,    4.1993401 ],\n",
       "       ...,\n",
       "       [ 314.50175618,   47.55352518,  -10.44240718,   -9.77188104],\n",
       "       [1124.85811531,   34.12922497,  -19.74208742,  -23.66088144],\n",
       "       [-771.52762188,  -88.64310636,   23.88903189,    2.54724855]])"
      ]
     },
     "execution_count": 7,
     "metadata": {},
     "output_type": "execute_result"
    }
   ],
   "source": [
    "sklearn_pca(data, 4)"
   ]
  },
  {
   "cell_type": "markdown",
   "id": "d23dbae8-0b6c-4738-873f-24d23bca43df",
   "metadata": {},
   "source": [
    "## Задание 5"
   ]
  },
  {
   "cell_type": "code",
   "execution_count": 8,
   "id": "f2ad5a49-4e1a-42e0-9ffa-76cf125341d7",
   "metadata": {},
   "outputs": [
    {
     "data": {
      "text/plain": [
       "array([[1160.1425737 , -293.91754364],\n",
       "       [1269.12244319,   15.63018184],\n",
       "       [ 995.79388896,   39.15674324],\n",
       "       ...,\n",
       "       [ 314.50175618,   47.55352518],\n",
       "       [1124.85811531,   34.12922497],\n",
       "       [-771.52762188,  -88.64310636]])"
      ]
     },
     "execution_count": 8,
     "metadata": {},
     "output_type": "execute_result"
    }
   ],
   "source": [
    "custom_pca(data, 2)"
   ]
  },
  {
   "cell_type": "code",
   "execution_count": 9,
   "id": "9afe39bc-e20a-4dda-bade-8928f871fb60",
   "metadata": {},
   "outputs": [
    {
     "data": {
      "text/plain": [
       "array([[1160.1425737 , -293.91754364,   48.57839763],\n",
       "       [1269.12244319,   15.63018184,  -35.39453423],\n",
       "       [ 995.79388896,   39.15674324,   -1.70975298],\n",
       "       ...,\n",
       "       [ 314.50175618,   47.55352518,  -10.44240718],\n",
       "       [1124.85811531,   34.12922497,  -19.74208742],\n",
       "       [-771.52762188,  -88.64310636,   23.88903189]])"
      ]
     },
     "execution_count": 9,
     "metadata": {},
     "output_type": "execute_result"
    }
   ],
   "source": [
    "custom_pca(data, 3)"
   ]
  },
  {
   "cell_type": "code",
   "execution_count": 10,
   "id": "dbd302db-5c20-4a48-b363-bf986f564140",
   "metadata": {},
   "outputs": [
    {
     "data": {
      "text/plain": [
       "array([[1160.1425737 , -293.91754364,   48.57839763,    8.71197531],\n",
       "       [1269.12244319,   15.63018184,  -35.39453423,  -17.86128323],\n",
       "       [ 995.79388896,   39.15674324,   -1.70975298,   -4.1993401 ],\n",
       "       ...,\n",
       "       [ 314.50175618,   47.55352518,  -10.44240718,    9.77188104],\n",
       "       [1124.85811531,   34.12922497,  -19.74208742,   23.66088144],\n",
       "       [-771.52762188,  -88.64310636,   23.88903189,   -2.54724855]])"
      ]
     },
     "execution_count": 10,
     "metadata": {},
     "output_type": "execute_result"
    }
   ],
   "source": [
    "custom_pca(data, 4)"
   ]
  }
 ],
 "metadata": {
  "kernelspec": {
   "display_name": "Python 3 (ipykernel)",
   "language": "python",
   "name": "python3"
  },
  "language_info": {
   "codemirror_mode": {
    "name": "ipython",
    "version": 3
   },
   "file_extension": ".py",
   "mimetype": "text/x-python",
   "name": "python",
   "nbconvert_exporter": "python",
   "pygments_lexer": "ipython3",
   "version": "3.11.5"
  }
 },
 "nbformat": 4,
 "nbformat_minor": 5
}
