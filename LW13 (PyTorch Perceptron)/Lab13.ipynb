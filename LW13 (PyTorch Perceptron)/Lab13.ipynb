{
 "cells": [
  {
   "cell_type": "markdown",
   "id": "b686ba38-d17a-4ad3-a5f2-b158d38049e1",
   "metadata": {},
   "source": [
    "# Лабораторная работа №13 по PyTorch"
   ]
  },
  {
   "cell_type": "code",
   "execution_count": 1,
   "id": "61fa06e3-3d23-4edc-adef-a41d73600a02",
   "metadata": {},
   "outputs": [],
   "source": [
    "import torch\n",
    "import torch.nn as nn\n",
    "import torch.optim as optim\n",
    "from torchvision import datasets, transforms\n",
    "from torch.utils.data import DataLoader"
   ]
  },
  {
   "cell_type": "code",
   "execution_count": 2,
   "id": "5783c3cc-a1ed-421c-907f-5b4eadeee18a",
   "metadata": {},
   "outputs": [],
   "source": [
    "# Загрузка датасета MNIST\n",
    "transform = transforms.Compose([transforms.ToTensor(), transforms.Normalize((0.1307,), (0.3081,))])\n",
    "train_loader = DataLoader(datasets.MNIST(\"data\", train=True, download=True, transform=transform), batch_size=64, shuffle=True)"
   ]
  },
  {
   "cell_type": "code",
   "execution_count": 3,
   "id": "0f20415c-5364-46da-824b-36215e53defe",
   "metadata": {},
   "outputs": [],
   "source": [
    "# Создание класса для перцептрона\n",
    "class Perceptron(nn.Module):\n",
    "    def __init__(self):\n",
    "        super(Perceptron, self).__init__()\n",
    "        self.fc = nn.Linear(28*28, 10)\n",
    "    \n",
    "    def forward(self, x):\n",
    "        x = torch.sigmoid(self.fc(x.view(x.size(0), -1)))\n",
    "        return x"
   ]
  },
  {
   "cell_type": "code",
   "execution_count": 4,
   "id": "8dfd8ae3-7108-4a0c-8dda-52659da0c0fd",
   "metadata": {},
   "outputs": [],
   "source": [
    "# Инициализация модели, функции потерь и оптимизатора\n",
    "device = torch.device(\"cuda\" if torch.cuda.is_available() else \"cpu\")\n",
    "model = Perceptron().to(device)\n",
    "criterion = nn.CrossEntropyLoss()\n",
    "optimizer = optim.SGD(model.parameters(), lr=0.01)"
   ]
  },
  {
   "cell_type": "code",
   "execution_count": 5,
   "id": "f2950600-bf7f-46d1-a7fd-653f3c5ee031",
   "metadata": {},
   "outputs": [
    {
     "name": "stdout",
     "output_type": "stream",
     "text": [
      "Epoch 1, Batch 0, Loss: 2.336301565170288\n",
      "Epoch 1, Batch 100, Loss: 1.9606857299804688\n",
      "Epoch 1, Batch 200, Loss: 1.8519337177276611\n",
      "Epoch 1, Batch 300, Loss: 1.834634780883789\n",
      "Epoch 1, Batch 400, Loss: 1.7609364986419678\n",
      "Epoch 1, Batch 500, Loss: 1.7135716676712036\n",
      "Epoch 1, Batch 600, Loss: 1.737916350364685\n",
      "Epoch 1, Batch 700, Loss: 1.6795607805252075\n",
      "Epoch 1, Batch 800, Loss: 1.6690044403076172\n",
      "Epoch 1, Batch 900, Loss: 1.701741099357605\n",
      "Epoch 2, Batch 0, Loss: 1.7163619995117188\n",
      "Epoch 2, Batch 100, Loss: 1.6652449369430542\n",
      "Epoch 2, Batch 200, Loss: 1.6966990232467651\n",
      "Epoch 2, Batch 300, Loss: 1.6494026184082031\n",
      "Epoch 2, Batch 400, Loss: 1.6629588603973389\n",
      "Epoch 2, Batch 500, Loss: 1.6540671586990356\n",
      "Epoch 2, Batch 600, Loss: 1.6844050884246826\n",
      "Epoch 2, Batch 700, Loss: 1.6573057174682617\n",
      "Epoch 2, Batch 800, Loss: 1.6480507850646973\n",
      "Epoch 2, Batch 900, Loss: 1.627964735031128\n",
      "Epoch 3, Batch 0, Loss: 1.68733811378479\n",
      "Epoch 3, Batch 100, Loss: 1.637851595878601\n",
      "Epoch 3, Batch 200, Loss: 1.630645513534546\n",
      "Epoch 3, Batch 300, Loss: 1.6564722061157227\n",
      "Epoch 3, Batch 400, Loss: 1.6462956666946411\n",
      "Epoch 3, Batch 500, Loss: 1.630333423614502\n",
      "Epoch 3, Batch 600, Loss: 1.663427710533142\n",
      "Epoch 3, Batch 700, Loss: 1.5983123779296875\n",
      "Epoch 3, Batch 800, Loss: 1.6418002843856812\n",
      "Epoch 3, Batch 900, Loss: 1.5971702337265015\n",
      "Epoch 4, Batch 0, Loss: 1.5826568603515625\n",
      "Epoch 4, Batch 100, Loss: 1.6213315725326538\n",
      "Epoch 4, Batch 200, Loss: 1.623987078666687\n",
      "Epoch 4, Batch 300, Loss: 1.6288648843765259\n",
      "Epoch 4, Batch 400, Loss: 1.6144859790802002\n",
      "Epoch 4, Batch 500, Loss: 1.6750802993774414\n",
      "Epoch 4, Batch 600, Loss: 1.6091843843460083\n",
      "Epoch 4, Batch 700, Loss: 1.6244075298309326\n",
      "Epoch 4, Batch 800, Loss: 1.631429672241211\n",
      "Epoch 4, Batch 900, Loss: 1.6114981174468994\n",
      "Epoch 5, Batch 0, Loss: 1.6372207403182983\n",
      "Epoch 5, Batch 100, Loss: 1.6188228130340576\n",
      "Epoch 5, Batch 200, Loss: 1.6246751546859741\n",
      "Epoch 5, Batch 300, Loss: 1.5778952836990356\n",
      "Epoch 5, Batch 400, Loss: 1.584700107574463\n",
      "Epoch 5, Batch 500, Loss: 1.6392147541046143\n",
      "Epoch 5, Batch 600, Loss: 1.6487996578216553\n",
      "Epoch 5, Batch 700, Loss: 1.6057636737823486\n",
      "Epoch 5, Batch 800, Loss: 1.6071819067001343\n",
      "Epoch 5, Batch 900, Loss: 1.6088025569915771\n",
      "Epoch 6, Batch 0, Loss: 1.6045725345611572\n",
      "Epoch 6, Batch 100, Loss: 1.5751076936721802\n",
      "Epoch 6, Batch 200, Loss: 1.6466580629348755\n",
      "Epoch 6, Batch 300, Loss: 1.6066025495529175\n",
      "Epoch 6, Batch 400, Loss: 1.5985212326049805\n",
      "Epoch 6, Batch 500, Loss: 1.5886512994766235\n",
      "Epoch 6, Batch 600, Loss: 1.5924259424209595\n",
      "Epoch 6, Batch 700, Loss: 1.6401472091674805\n",
      "Epoch 6, Batch 800, Loss: 1.5844019651412964\n",
      "Epoch 6, Batch 900, Loss: 1.6116863489151\n",
      "Epoch 7, Batch 0, Loss: 1.608798623085022\n",
      "Epoch 7, Batch 100, Loss: 1.6425894498825073\n",
      "Epoch 7, Batch 200, Loss: 1.5983684062957764\n",
      "Epoch 7, Batch 300, Loss: 1.5974578857421875\n",
      "Epoch 7, Batch 400, Loss: 1.608764886856079\n",
      "Epoch 7, Batch 500, Loss: 1.6111396551132202\n",
      "Epoch 7, Batch 600, Loss: 1.6116540431976318\n",
      "Epoch 7, Batch 700, Loss: 1.6326595544815063\n",
      "Epoch 7, Batch 800, Loss: 1.6208407878875732\n",
      "Epoch 7, Batch 900, Loss: 1.614713191986084\n",
      "Epoch 8, Batch 0, Loss: 1.607491135597229\n",
      "Epoch 8, Batch 100, Loss: 1.6264628171920776\n",
      "Epoch 8, Batch 200, Loss: 1.575044870376587\n",
      "Epoch 8, Batch 300, Loss: 1.591068148612976\n",
      "Epoch 8, Batch 400, Loss: 1.5712192058563232\n",
      "Epoch 8, Batch 500, Loss: 1.597170114517212\n",
      "Epoch 8, Batch 600, Loss: 1.5957759618759155\n",
      "Epoch 8, Batch 700, Loss: 1.6416964530944824\n",
      "Epoch 8, Batch 800, Loss: 1.5858545303344727\n",
      "Epoch 8, Batch 900, Loss: 1.5760403871536255\n",
      "Epoch 9, Batch 0, Loss: 1.6231052875518799\n",
      "Epoch 9, Batch 100, Loss: 1.6015182733535767\n",
      "Epoch 9, Batch 200, Loss: 1.553017258644104\n",
      "Epoch 9, Batch 300, Loss: 1.6125484704971313\n",
      "Epoch 9, Batch 400, Loss: 1.6195744276046753\n",
      "Epoch 9, Batch 500, Loss: 1.6238588094711304\n",
      "Epoch 9, Batch 600, Loss: 1.5824778079986572\n",
      "Epoch 9, Batch 700, Loss: 1.5980602502822876\n",
      "Epoch 9, Batch 800, Loss: 1.6025898456573486\n",
      "Epoch 9, Batch 900, Loss: 1.61500084400177\n",
      "Epoch 10, Batch 0, Loss: 1.6480363607406616\n",
      "Epoch 10, Batch 100, Loss: 1.6129379272460938\n",
      "Epoch 10, Batch 200, Loss: 1.642832636833191\n",
      "Epoch 10, Batch 300, Loss: 1.6200776100158691\n",
      "Epoch 10, Batch 400, Loss: 1.5733469724655151\n",
      "Epoch 10, Batch 500, Loss: 1.608066439628601\n",
      "Epoch 10, Batch 600, Loss: 1.5863691568374634\n",
      "Epoch 10, Batch 700, Loss: 1.5488044023513794\n",
      "Epoch 10, Batch 800, Loss: 1.5693624019622803\n",
      "Epoch 10, Batch 900, Loss: 1.5873843431472778\n"
     ]
    }
   ],
   "source": [
    "# Обучение модели\n",
    "epochs = 10\n",
    "for epoch in range(epochs):\n",
    "    for batch_idx, (data, target) in enumerate(train_loader):\n",
    "        data, target = data.to(device), target.to(device) \n",
    "        optimizer.zero_grad()\n",
    "        output = model(data)\n",
    "        loss = criterion(output, target)\n",
    "        loss.backward()\n",
    "        optimizer.step()\n",
    "\n",
    "        if batch_idx % 100 == 0:\n",
    "            print(f'Epoch {epoch+1}, Batch {batch_idx}, Loss: {loss.item()}')"
   ]
  },
  {
   "cell_type": "code",
   "execution_count": 6,
   "id": "1999b9e3-f491-47dc-88e5-d219c87774e1",
   "metadata": {},
   "outputs": [
    {
     "name": "stdout",
     "output_type": "stream",
     "text": [
      "Accuracy on the training set: 89.01%\n"
     ]
    }
   ],
   "source": [
    "# Проверка обученной модели\n",
    "model.eval()\n",
    "correct = 0\n",
    "total = 0\n",
    "with torch.no_grad():\n",
    "    for data, target in train_loader:\n",
    "        data, target = data.to(device), target.to(device)\n",
    "        output = model(data)\n",
    "        _, predicted = torch.max(output, 1)\n",
    "        total += target.size(0)\n",
    "        correct += (predicted == target).sum().item()\n",
    "\n",
    "accuracy = correct / total\n",
    "print(f'Accuracy on the training set: {100 * accuracy:.2f}%')"
   ]
  }
 ],
 "metadata": {
  "kernelspec": {
   "display_name": "Python 3 (ipykernel)",
   "language": "python",
   "name": "python3"
  },
  "language_info": {
   "codemirror_mode": {
    "name": "ipython",
    "version": 3
   },
   "file_extension": ".py",
   "mimetype": "text/x-python",
   "name": "python",
   "nbconvert_exporter": "python",
   "pygments_lexer": "ipython3",
   "version": "3.11.5"
  }
 },
 "nbformat": 4,
 "nbformat_minor": 5
}
