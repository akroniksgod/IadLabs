{
 "cells": [
  {
   "cell_type": "markdown",
   "id": "b686ba38-d17a-4ad3-a5f2-b158d38049e1",
   "metadata": {},
   "source": [
    "# Лабораторная работа №13 по PyTorch"
   ]
  },
  {
   "cell_type": "code",
   "execution_count": 1,
   "id": "61fa06e3-3d23-4edc-adef-a41d73600a02",
   "metadata": {},
   "outputs": [],
   "source": [
    "import torch\n",
    "import torch.nn as nn\n",
    "import torch.optim as optim\n",
    "from torchvision import datasets, transforms\n",
    "from torch.utils.data import DataLoader"
   ]
  },
  {
   "cell_type": "code",
   "execution_count": 2,
   "id": "5783c3cc-a1ed-421c-907f-5b4eadeee18a",
   "metadata": {},
   "outputs": [],
   "source": [
    "# Загрузка датасета MNIST\n",
    "transform = transforms.Compose([transforms.ToTensor(), transforms.Normalize((0.1307,), (0.3081,))])\n",
    "train_loader = DataLoader(datasets.MNIST(\"data\", train=True, download=True, transform=transform), batch_size=64, shuffle=True)"
   ]
  },
  {
   "cell_type": "code",
   "execution_count": 3,
   "id": "0f20415c-5364-46da-824b-36215e53defe",
   "metadata": {},
   "outputs": [],
   "source": [
    "# Создание класса для перцептрона\n",
    "class Perceptron(nn.Module):\n",
    "    def __init__(self):\n",
    "        super(Perceptron, self).__init__()\n",
    "        self.fc = nn.Linear(28*28, 10)\n",
    "    \n",
    "    def forward(self, x):\n",
    "        x = torch.sigmoid(self.fc(x.view(x.size(0), -1)))\n",
    "        return x"
   ]
  },
  {
   "cell_type": "code",
   "execution_count": 4,
   "id": "8dfd8ae3-7108-4a0c-8dda-52659da0c0fd",
   "metadata": {},
   "outputs": [],
   "source": [
    "# Инициализация модели, функции потерь и оптимизатора\n",
    "device = torch.device(\"cuda\" if torch.cuda.is_available() else \"cpu\")\n",
    "model = Perceptron().to(device)\n",
    "criterion = nn.CrossEntropyLoss()\n",
    "optimizer = optim.SGD(model.parameters(), lr=0.01)"
   ]
  },
  {
   "cell_type": "code",
   "execution_count": 5,
   "id": "f2950600-bf7f-46d1-a7fd-653f3c5ee031",
   "metadata": {},
   "outputs": [
    {
     "name": "stdout",
     "output_type": "stream",
     "text": [
      "Epoch 1, Batch 0, Loss: 2.3215129375457764\n",
      "Epoch 1, Batch 100, Loss: 1.8955930471420288\n",
      "Epoch 1, Batch 200, Loss: 1.8103258609771729\n",
      "Epoch 1, Batch 300, Loss: 1.7851431369781494\n",
      "Epoch 1, Batch 400, Loss: 1.7442611455917358\n",
      "Epoch 1, Batch 500, Loss: 1.7117027044296265\n",
      "Epoch 1, Batch 600, Loss: 1.748612880706787\n",
      "Epoch 1, Batch 700, Loss: 1.7003720998764038\n",
      "Epoch 1, Batch 800, Loss: 1.7485405206680298\n",
      "Epoch 1, Batch 900, Loss: 1.6677813529968262\n",
      "Epoch 2, Batch 0, Loss: 1.7153115272521973\n",
      "Epoch 2, Batch 100, Loss: 1.7048536539077759\n",
      "Epoch 2, Batch 200, Loss: 1.6981478929519653\n",
      "Epoch 2, Batch 300, Loss: 1.6641005277633667\n",
      "Epoch 2, Batch 400, Loss: 1.6438183784484863\n",
      "Epoch 2, Batch 500, Loss: 1.6900931596755981\n",
      "Epoch 2, Batch 600, Loss: 1.646651029586792\n",
      "Epoch 2, Batch 700, Loss: 1.684612512588501\n",
      "Epoch 2, Batch 800, Loss: 1.6305265426635742\n",
      "Epoch 2, Batch 900, Loss: 1.6537400484085083\n",
      "Epoch 3, Batch 0, Loss: 1.669937014579773\n",
      "Epoch 3, Batch 100, Loss: 1.6217759847640991\n",
      "Epoch 3, Batch 200, Loss: 1.6987155675888062\n",
      "Epoch 3, Batch 300, Loss: 1.6773673295974731\n",
      "Epoch 3, Batch 400, Loss: 1.6924679279327393\n",
      "Epoch 3, Batch 500, Loss: 1.6014206409454346\n",
      "Epoch 3, Batch 600, Loss: 1.6428465843200684\n",
      "Epoch 3, Batch 700, Loss: 1.6212713718414307\n",
      "Epoch 3, Batch 800, Loss: 1.6340436935424805\n",
      "Epoch 3, Batch 900, Loss: 1.622333288192749\n",
      "Epoch 4, Batch 0, Loss: 1.6190648078918457\n",
      "Epoch 4, Batch 100, Loss: 1.5918763875961304\n",
      "Epoch 4, Batch 200, Loss: 1.6328006982803345\n",
      "Epoch 4, Batch 300, Loss: 1.5986900329589844\n",
      "Epoch 4, Batch 400, Loss: 1.6133562326431274\n",
      "Epoch 4, Batch 500, Loss: 1.6092298030853271\n",
      "Epoch 4, Batch 600, Loss: 1.6363080739974976\n",
      "Epoch 4, Batch 700, Loss: 1.6162906885147095\n",
      "Epoch 4, Batch 800, Loss: 1.6533123254776\n",
      "Epoch 4, Batch 900, Loss: 1.6310768127441406\n",
      "Epoch 5, Batch 0, Loss: 1.6186614036560059\n",
      "Epoch 5, Batch 100, Loss: 1.6141002178192139\n",
      "Epoch 5, Batch 200, Loss: 1.5991560220718384\n",
      "Epoch 5, Batch 300, Loss: 1.6003086566925049\n",
      "Epoch 5, Batch 400, Loss: 1.6178717613220215\n",
      "Epoch 5, Batch 500, Loss: 1.595934510231018\n",
      "Epoch 5, Batch 600, Loss: 1.6455082893371582\n",
      "Epoch 5, Batch 700, Loss: 1.6530972719192505\n",
      "Epoch 5, Batch 800, Loss: 1.6644541025161743\n",
      "Epoch 5, Batch 900, Loss: 1.613844394683838\n",
      "Epoch 6, Batch 0, Loss: 1.6061919927597046\n",
      "Epoch 6, Batch 100, Loss: 1.6492092609405518\n",
      "Epoch 6, Batch 200, Loss: 1.5880576372146606\n",
      "Epoch 6, Batch 300, Loss: 1.606855034828186\n",
      "Epoch 6, Batch 400, Loss: 1.6324347257614136\n",
      "Epoch 6, Batch 500, Loss: 1.6059682369232178\n",
      "Epoch 6, Batch 600, Loss: 1.6513437032699585\n",
      "Epoch 6, Batch 700, Loss: 1.589421272277832\n",
      "Epoch 6, Batch 800, Loss: 1.561361312866211\n",
      "Epoch 6, Batch 900, Loss: 1.6194554567337036\n",
      "Epoch 7, Batch 0, Loss: 1.6184111833572388\n",
      "Epoch 7, Batch 100, Loss: 1.5779355764389038\n",
      "Epoch 7, Batch 200, Loss: 1.6183829307556152\n",
      "Epoch 7, Batch 300, Loss: 1.5782499313354492\n",
      "Epoch 7, Batch 400, Loss: 1.567887306213379\n",
      "Epoch 7, Batch 500, Loss: 1.6342828273773193\n",
      "Epoch 7, Batch 600, Loss: 1.6288384199142456\n",
      "Epoch 7, Batch 700, Loss: 1.6405521631240845\n",
      "Epoch 7, Batch 800, Loss: 1.562670111656189\n",
      "Epoch 7, Batch 900, Loss: 1.610294222831726\n",
      "Epoch 8, Batch 0, Loss: 1.5625258684158325\n",
      "Epoch 8, Batch 100, Loss: 1.5904747247695923\n",
      "Epoch 8, Batch 200, Loss: 1.6209869384765625\n",
      "Epoch 8, Batch 300, Loss: 1.6359134912490845\n",
      "Epoch 8, Batch 400, Loss: 1.6359270811080933\n",
      "Epoch 8, Batch 500, Loss: 1.571501612663269\n",
      "Epoch 8, Batch 600, Loss: 1.6098424196243286\n",
      "Epoch 8, Batch 700, Loss: 1.6163533926010132\n",
      "Epoch 8, Batch 800, Loss: 1.5630799531936646\n",
      "Epoch 8, Batch 900, Loss: 1.610238790512085\n",
      "Epoch 9, Batch 0, Loss: 1.5887888669967651\n",
      "Epoch 9, Batch 100, Loss: 1.605748176574707\n",
      "Epoch 9, Batch 200, Loss: 1.6113739013671875\n",
      "Epoch 9, Batch 300, Loss: 1.6422772407531738\n",
      "Epoch 9, Batch 400, Loss: 1.6089669466018677\n",
      "Epoch 9, Batch 500, Loss: 1.5796024799346924\n",
      "Epoch 9, Batch 600, Loss: 1.5933998823165894\n",
      "Epoch 9, Batch 700, Loss: 1.5904349088668823\n",
      "Epoch 9, Batch 800, Loss: 1.6175436973571777\n",
      "Epoch 9, Batch 900, Loss: 1.5973156690597534\n",
      "Epoch 10, Batch 0, Loss: 1.563774585723877\n",
      "Epoch 10, Batch 100, Loss: 1.640512228012085\n",
      "Epoch 10, Batch 200, Loss: 1.617932677268982\n",
      "Epoch 10, Batch 300, Loss: 1.6192344427108765\n",
      "Epoch 10, Batch 400, Loss: 1.5964345932006836\n",
      "Epoch 10, Batch 500, Loss: 1.5653952360153198\n",
      "Epoch 10, Batch 600, Loss: 1.644991397857666\n",
      "Epoch 10, Batch 700, Loss: 1.5846319198608398\n",
      "Epoch 10, Batch 800, Loss: 1.63528573513031\n",
      "Epoch 10, Batch 900, Loss: 1.5786525011062622\n"
     ]
    }
   ],
   "source": [
    "# Обучение модели\n",
    "epochs = 10\n",
    "for epoch in range(epochs):\n",
    "    for batch_idx, (data, target) in enumerate(train_loader):\n",
    "        data, target = data.to(device), target.to(device) \n",
    "        optimizer.zero_grad()\n",
    "        output = model(data)\n",
    "        loss = criterion(output, target)\n",
    "        loss.backward()\n",
    "        optimizer.step()\n",
    "\n",
    "        if batch_idx % 100 == 0:\n",
    "            print(f'Epoch {epoch+1}, Batch {batch_idx}, Loss: {loss.item()}')"
   ]
  },
  {
   "cell_type": "code",
   "execution_count": 6,
   "id": "1999b9e3-f491-47dc-88e5-d219c87774e1",
   "metadata": {},
   "outputs": [
    {
     "name": "stdout",
     "output_type": "stream",
     "text": [
      "Точность перцептрона на обучающей выборке: 89.10%\n"
     ]
    }
   ],
   "source": [
    "# Проверка обученной модели\n",
    "model.eval()\n",
    "correct = 0\n",
    "total = 0\n",
    "with torch.no_grad():\n",
    "    for data, target in train_loader:\n",
    "        data, target = data.to(device), target.to(device)\n",
    "        output = model(data)\n",
    "        _, predicted = torch.max(output, 1)\n",
    "        total += target.size(0)\n",
    "        correct += (predicted == target).sum().item()\n",
    "\n",
    "accuracy = correct / total\n",
    "print(f'Точность перцептрона на обучающей выборке: {100 * accuracy:.2f}%')"
   ]
  }
 ],
 "metadata": {
  "kernelspec": {
   "display_name": "Python 3 (ipykernel)",
   "language": "python",
   "name": "python3"
  },
  "language_info": {
   "codemirror_mode": {
    "name": "ipython",
    "version": 3
   },
   "file_extension": ".py",
   "mimetype": "text/x-python",
   "name": "python",
   "nbconvert_exporter": "python",
   "pygments_lexer": "ipython3",
   "version": "3.11.5"
  }
 },
 "nbformat": 4,
 "nbformat_minor": 5
}
