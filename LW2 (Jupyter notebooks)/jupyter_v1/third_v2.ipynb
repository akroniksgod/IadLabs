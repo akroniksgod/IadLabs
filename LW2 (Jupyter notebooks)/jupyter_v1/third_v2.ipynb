{
 "cells": [
  {
   "cell_type": "code",
   "execution_count": 5,
   "id": "a177a4e5-c5ae-4352-9270-9fa2fd4ba09e",
   "metadata": {},
   "outputs": [],
   "source": [
    "import numpy as np"
   ]
  },
  {
   "cell_type": "code",
   "execution_count": 6,
   "id": "71e1e1fe-9f68-4479-ba3a-21f867d6666e",
   "metadata": {},
   "outputs": [],
   "source": [
    "def step():\n",
    "    import random\n",
    "    return 1. if random.random() > .5 else -1."
   ]
  },
  {
   "cell_type": "code",
   "execution_count": 7,
   "id": "827bf030-080e-4060-aa52-dc2e7d231c55",
   "metadata": {},
   "outputs": [],
   "source": [
    "def walk(n):\n",
    "    x = np.zeros(n)\n",
    "    dx = 1. / n\n",
    "    for i in range(n - 1):\n",
    "        x_new = x[i] + dx * step()\n",
    "        if x_new > 5e-3:\n",
    "            x[i + 1] = 0.\n",
    "        else:\n",
    "            x[i + 1] = x_new\n",
    "    return x"
   ]
  },
  {
   "cell_type": "code",
   "execution_count": 8,
   "id": "62120334-2a0e-4eea-8427-e2e58b3b7f35",
   "metadata": {},
   "outputs": [],
   "source": [
    "n = 100000\n",
    "x = walk(n)"
   ]
  },
  {
   "cell_type": "code",
   "execution_count": null,
   "id": "f9f9e05d-3836-4fbd-a5f2-ba44bb158b19",
   "metadata": {},
   "outputs": [],
   "source": [
    "import matplotlib.pyplot as plt\n",
    "plt.plot(x);"
   ]
  },
  {
   "cell_type": "code",
   "execution_count": null,
   "id": "6f058a33-cafe-43a4-a556-7cf4a097dd78",
   "metadata": {},
   "outputs": [],
   "source": [
    "t1 = %timeit -o walk(n)"
   ]
  },
  {
   "cell_type": "code",
   "execution_count": null,
   "id": "09c89205-dd11-4301-8410-db0ac8ddaa25",
   "metadata": {},
   "outputs": [],
   "source": [
    "t1.best"
   ]
  },
  {
   "cell_type": "code",
   "execution_count": 9,
   "id": "69075042-fc21-4b65-bdc5-66b5b9d6f8d5",
   "metadata": {},
   "outputs": [
    {
     "name": "stdout",
     "output_type": "stream",
     "text": [
      " "
     ]
    },
    {
     "data": {
      "text/plain": [
       "         200003 function calls in 0.114 seconds\n",
       "\n",
       "   Ordered by: internal time\n",
       "\n",
       "   ncalls  tottime  percall  cumtime  percall filename:lineno(function)\n",
       "        1    0.059    0.059    0.114    0.114 2505900611.py:1(walk)\n",
       "    99999    0.044    0.000    0.054    0.000 1062327543.py:1(step)\n",
       "    99999    0.010    0.000    0.010    0.000 {method 'random' of '_random.Random' objects}\n",
       "        1    0.000    0.000    0.000    0.000 {built-in method numpy.zeros}\n",
       "        1    0.000    0.000    0.114    0.114 {built-in method builtins.exec}\n",
       "        1    0.000    0.000    0.114    0.114 <string>:1(<module>)\n",
       "        1    0.000    0.000    0.000    0.000 {method 'disable' of '_lsprof.Profiler' objects}"
      ]
     },
     "metadata": {},
     "output_type": "display_data"
    }
   ],
   "source": [
    "%%prun\n",
    "walk(n)"
   ]
  },
  {
   "cell_type": "code",
   "execution_count": null,
   "id": "22ff8fcf-7782-47f5-a078-88a74e2bd9f4",
   "metadata": {},
   "outputs": [],
   "source": []
  }
 ],
 "metadata": {
  "kernelspec": {
   "display_name": "Python 3 (ipykernel)",
   "language": "python",
   "name": "python3"
  },
  "language_info": {
   "codemirror_mode": {
    "name": "ipython",
    "version": 3
   },
   "file_extension": ".py",
   "mimetype": "text/x-python",
   "name": "python",
   "nbconvert_exporter": "python",
   "pygments_lexer": "ipython3",
   "version": "3.11.5"
  }
 },
 "nbformat": 4,
 "nbformat_minor": 5
}
